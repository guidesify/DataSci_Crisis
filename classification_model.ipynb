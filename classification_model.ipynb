{
 "cells": [
  {
   "cell_type": "code",
   "execution_count": 11,
   "metadata": {},
   "outputs": [
    {
     "name": "stderr",
     "output_type": "stream",
     "text": [
      "[nltk_data] Downloading package wordnet to\n",
      "[nltk_data]     C:\\Users\\YongLe\\AppData\\Roaming\\nltk_data...\n",
      "[nltk_data]   Package wordnet is already up-to-date!\n",
      "[nltk_data] Downloading package omw-1.4 to\n",
      "[nltk_data]     C:\\Users\\YongLe\\AppData\\Roaming\\nltk_data...\n",
      "[nltk_data]   Package omw-1.4 is already up-to-date!\n"
     ]
    }
   ],
   "source": [
    "# Export requirements.txt for only the packages used in this notebook\n",
    "# pip install pipreqs\n",
    "# !pipreqs --force .\n",
    "import os\n",
    "import re\n",
    "import glob\n",
    "import time\n",
    "import pandas as pd\n",
    "import warnings\n",
    "import win32com.client as win32\n",
    "import seaborn as sns\n",
    "import matplotlib.pyplot as plt\n",
    "import numpy as np\n",
    "\n",
    "from nltk.stem.wordnet import WordNetLemmatizer\n",
    "from nltk.stem import PorterStemmer\n",
    "import nltk \n",
    "nltk.download('wordnet')\n",
    "nltk.download('omw-1.4')\n",
    "\n",
    "from sklearn import set_config\n",
    "from sklearn.pipeline import Pipeline\n",
    "from sklearn.experimental import enable_halving_search_cv\n",
    "from sklearn.model_selection import train_test_split, HalvingRandomSearchCV\n",
    "from sklearn.feature_extraction.text import TfidfVectorizer\n",
    "from sklearn.metrics import accuracy_score, precision_score, recall_score, f1_score, roc_auc_score, confusion_matrix, classification_report\n",
    "from sklearn.preprocessing import MinMaxScaler\n",
    "from sklearn.linear_model import LogisticRegression\n",
    "from sklearn.ensemble import RandomForestClassifier, StackingClassifier, VotingClassifier\n",
    "import xgboost as xgb\n",
    "from lightgbm import LGBMClassifier\n",
    "\n",
    "warnings.filterwarnings('ignore')\n",
    "set_config(display='diagram')\n",
    "dir_path = os.getcwd() + '\\\\'\n",
    "\n",
    "# Only works in Windows with Excel installed\n",
    "def set_options(xl, option):\n",
    "    try:\n",
    "        xl.Visible = option\n",
    "        xl.ScreenUpdating = option\n",
    "        xl.DisplayAlerts = option\n",
    "        xl.EnableEvents = option\n",
    "    except: \n",
    "        pass\n",
    "\n",
    "def convert(file):\n",
    "    file = os.path.splitext(file)[0]\n",
    "    print(\"Converting {}...\".format(file))\n",
    "    xl = win32.gencache.EnsureDispatch('Excel.Application')\n",
    "    set_options(xl, False)\n",
    "\n",
    "    # check if file with .csv exists\n",
    "    if not os.path.isfile(dir_path + file + '.csv'):\n",
    "        try:\n",
    "            wb = xl.Workbooks.Open(Filename= dir_path + file + '.xlsx',ReadOnly=1)\n",
    "        except:\n",
    "            wb = xl.Workbooks.Open(Filename= dir_path + file + '.xlsb',ReadOnly=1)  \n",
    "        xl.ActiveWorkbook == wb\n",
    "        \n",
    "        #6 means csv\n",
    "        wb.SaveAs(Filename= dir_path + file + '.csv', FileFormat='6') \n",
    "        set_options(xl, True)\n",
    "        wb.Close(True)\n",
    "        xl.Application.Quit()\n",
    "        wb=xl=None\n",
    "    \n",
    "    df = pd.read_csv(dir_path + file + '.csv', low_memory = False, encoding='utf-8')\n",
    "    df.to_pickle(dir_path + file + '.pkl')\n",
    "\n",
    "    print(\"Done converting {}...\".format(file))\n",
    "    return file + '.pkl'\n",
    "\n",
    "def read(i):\n",
    "    try:\n",
    "        pkl = glob.glob(os.path.join('*{0}*.pkl'.format(i)))[0]\n",
    "    except: \n",
    "        pkl = convert(glob.glob(os.path.join('*{0}*'.format(i)))[0])\n",
    "    df = pd.read_pickle(dir_path + pkl)\n",
    "    return df"
   ]
  },
  {
   "cell_type": "code",
   "execution_count": 12,
   "metadata": {},
   "outputs": [
    {
     "name": "stdout",
     "output_type": "stream",
     "text": [
      "Converting train...\n",
      "Done converting train...\n"
     ]
    },
    {
     "data": {
      "text/html": [
       "<div>\n",
       "<style scoped>\n",
       "    .dataframe tbody tr th:only-of-type {\n",
       "        vertical-align: middle;\n",
       "    }\n",
       "\n",
       "    .dataframe tbody tr th {\n",
       "        vertical-align: top;\n",
       "    }\n",
       "\n",
       "    .dataframe thead th {\n",
       "        text-align: right;\n",
       "    }\n",
       "</style>\n",
       "<table border=\"1\" class=\"dataframe\">\n",
       "  <thead>\n",
       "    <tr style=\"text-align: right;\">\n",
       "      <th></th>\n",
       "      <th>id</th>\n",
       "      <th>keyword</th>\n",
       "      <th>location</th>\n",
       "      <th>text</th>\n",
       "      <th>target</th>\n",
       "    </tr>\n",
       "  </thead>\n",
       "  <tbody>\n",
       "    <tr>\n",
       "      <th>0</th>\n",
       "      <td>1</td>\n",
       "      <td>NaN</td>\n",
       "      <td>NaN</td>\n",
       "      <td>Our Deeds are the Reason of this #earthquake M...</td>\n",
       "      <td>1</td>\n",
       "    </tr>\n",
       "    <tr>\n",
       "      <th>1</th>\n",
       "      <td>4</td>\n",
       "      <td>NaN</td>\n",
       "      <td>NaN</td>\n",
       "      <td>Forest fire near La Ronge Sask. Canada</td>\n",
       "      <td>1</td>\n",
       "    </tr>\n",
       "    <tr>\n",
       "      <th>2</th>\n",
       "      <td>5</td>\n",
       "      <td>NaN</td>\n",
       "      <td>NaN</td>\n",
       "      <td>All residents asked to 'shelter in place' are ...</td>\n",
       "      <td>1</td>\n",
       "    </tr>\n",
       "    <tr>\n",
       "      <th>3</th>\n",
       "      <td>6</td>\n",
       "      <td>NaN</td>\n",
       "      <td>NaN</td>\n",
       "      <td>13,000 people receive #wildfires evacuation or...</td>\n",
       "      <td>1</td>\n",
       "    </tr>\n",
       "    <tr>\n",
       "      <th>4</th>\n",
       "      <td>7</td>\n",
       "      <td>NaN</td>\n",
       "      <td>NaN</td>\n",
       "      <td>Just got sent this photo from Ruby #Alaska as ...</td>\n",
       "      <td>1</td>\n",
       "    </tr>\n",
       "  </tbody>\n",
       "</table>\n",
       "</div>"
      ],
      "text/plain": [
       "   id keyword location                                               text  \\\n",
       "0   1     NaN      NaN  Our Deeds are the Reason of this #earthquake M...   \n",
       "1   4     NaN      NaN             Forest fire near La Ronge Sask. Canada   \n",
       "2   5     NaN      NaN  All residents asked to 'shelter in place' are ...   \n",
       "3   6     NaN      NaN  13,000 people receive #wildfires evacuation or...   \n",
       "4   7     NaN      NaN  Just got sent this photo from Ruby #Alaska as ...   \n",
       "\n",
       "   target  \n",
       "0       1  \n",
       "1       1  \n",
       "2       1  \n",
       "3       1  \n",
       "4       1  "
      ]
     },
     "execution_count": 12,
     "metadata": {},
     "output_type": "execute_result"
    }
   ],
   "source": [
    "# Pickle dataset, delete resume.pkl if you are facing issues\n",
    "i = \"train\"\n",
    "df = read(i)\n",
    "\n",
    "df.head()"
   ]
  },
  {
   "cell_type": "code",
   "execution_count": 13,
   "metadata": {},
   "outputs": [
    {
     "data": {
      "text/html": [
       "<div>\n",
       "<style scoped>\n",
       "    .dataframe tbody tr th:only-of-type {\n",
       "        vertical-align: middle;\n",
       "    }\n",
       "\n",
       "    .dataframe tbody tr th {\n",
       "        vertical-align: top;\n",
       "    }\n",
       "\n",
       "    .dataframe thead th {\n",
       "        text-align: right;\n",
       "    }\n",
       "</style>\n",
       "<table border=\"1\" class=\"dataframe\">\n",
       "  <thead>\n",
       "    <tr style=\"text-align: right;\">\n",
       "      <th></th>\n",
       "      <th>id</th>\n",
       "      <th>keyword</th>\n",
       "      <th>location</th>\n",
       "      <th>text</th>\n",
       "      <th>target</th>\n",
       "    </tr>\n",
       "  </thead>\n",
       "  <tbody>\n",
       "    <tr>\n",
       "      <th>0</th>\n",
       "      <td>1</td>\n",
       "      <td>others</td>\n",
       "      <td>NaN</td>\n",
       "      <td>our deeds are the reason of this #earthquake m...</td>\n",
       "      <td>1</td>\n",
       "    </tr>\n",
       "    <tr>\n",
       "      <th>1</th>\n",
       "      <td>4</td>\n",
       "      <td>others</td>\n",
       "      <td>NaN</td>\n",
       "      <td>forest fire near la ronge sask. canada</td>\n",
       "      <td>1</td>\n",
       "    </tr>\n",
       "    <tr>\n",
       "      <th>2</th>\n",
       "      <td>5</td>\n",
       "      <td>others</td>\n",
       "      <td>NaN</td>\n",
       "      <td>all residents asked to 'shelter in place' are ...</td>\n",
       "      <td>1</td>\n",
       "    </tr>\n",
       "    <tr>\n",
       "      <th>3</th>\n",
       "      <td>6</td>\n",
       "      <td>others</td>\n",
       "      <td>NaN</td>\n",
       "      <td>13,000 people receive #wildfires evacuation or...</td>\n",
       "      <td>1</td>\n",
       "    </tr>\n",
       "    <tr>\n",
       "      <th>4</th>\n",
       "      <td>7</td>\n",
       "      <td>others</td>\n",
       "      <td>NaN</td>\n",
       "      <td>just got sent this photo from ruby #alaska as ...</td>\n",
       "      <td>1</td>\n",
       "    </tr>\n",
       "  </tbody>\n",
       "</table>\n",
       "</div>"
      ],
      "text/plain": [
       "   id keyword location                                               text  \\\n",
       "0   1  others      NaN  our deeds are the reason of this #earthquake m...   \n",
       "1   4  others      NaN             forest fire near la ronge sask. canada   \n",
       "2   5  others      NaN  all residents asked to 'shelter in place' are ...   \n",
       "3   6  others      NaN  13,000 people receive #wildfires evacuation or...   \n",
       "4   7  others      NaN  just got sent this photo from ruby #alaska as ...   \n",
       "\n",
       "   target  \n",
       "0       1  \n",
       "1       1  \n",
       "2       1  \n",
       "3       1  \n",
       "4       1  "
      ]
     },
     "execution_count": 13,
     "metadata": {},
     "output_type": "execute_result"
    }
   ],
   "source": [
    "# To make it more realistic, we shouldn't use the keyword and location as features, but we can use to stratify the data for the train and test sets later on\n",
    "# Those with NaN, replace with others\n",
    "df['keyword'] = df['keyword'].fillna('others')\n",
    "\n",
    "# Do a brief cleaning of the data\n",
    "df['text'] = [re.sub('\\s+', ' ', x) for x in df['text']] # This removes all extra spaces\n",
    "df['text'] = [x.lower() for x in df['text']] # lowercase \n",
    "\n",
    "df.head()\n"
   ]
  },
  {
   "cell_type": "code",
   "execution_count": 18,
   "metadata": {},
   "outputs": [
    {
     "name": "stdout",
     "output_type": "stream",
     "text": [
      "0    4342\n",
      "1    3271\n",
      "Name: target, dtype: int64\n"
     ]
    }
   ],
   "source": [
    "# Number of rows of 1 and 0\n",
    "print(df['target'].value_counts())"
   ]
  },
  {
   "cell_type": "code",
   "execution_count": 48,
   "metadata": {},
   "outputs": [
    {
     "data": {
      "text/plain": [
       "text\n",
       "#allah describes piling up #wealth thinking it would last #forever as the description of the people of #hellfire in surah humaza. #reflect    2\n",
       "he came to a land which was engulfed in tribal war and turned it into a land of peace i.e. madinah. #prophetmuhammad #islam                   2\n",
       "mmmmmm i'm burning.... i'm burning buildings i'm building.... oooooohhhh oooh ooh...                                                          2\n",
       ".potus #strategicpatience is a strategy for #genocide; refugees; idp internally displaced people; horror; etc. https://t.co/rqwuoy1fm4        2\n",
       "that horrible sinking feeling when youâãâªve been at home on your phone for a while and you realise its been on 3g this whole time          2\n",
       "hellfire is surrounded by desires so be careful and donâãâªt let your desires control you! #afterlife                                       2\n",
       "i pledge allegiance to the p.o.p.e. and the burning buildings of epic city. ??????                                                            2\n",
       "cleared:incident with injury:i-495 inner loop exit 31 - md 97/georgia ave silver spring                                                       2\n",
       "rt notexplained: the only known image of infamous hijacker d.b. cooper. http://t.co/jlzk2hdetg                                                2\n",
       "to fight bioterrorism sir.                                                                                                                    2\n",
       "caution: breathing may be hazardous to your health.                                                                                           2\n",
       "#foodscare #offers2go #nestleindia slips into loss after #magginoodle #ban unsafe and hazardous for #humanconsumption                         2\n",
       "wowo--=== 12000 nigerian refugees repatriated from cameroon                                                                                   2\n",
       "like for the music video i want some real action shit like burning buildings and police chases not some weak ben winston shit                 2\n",
       "who is bringing the tornadoes and floods. who is bringing the climate change. god is after america he is plaguing her #farrakhan #quote       2\n",
       "the prophet (peace be upon him) said 'save yourself from hellfire even if it is by giving half a date in charity.'                            2\n",
       "in #islam saving a person is equal in reward to saving all humans! islam is the opposite of terrorism!                                        2\n",
       "hellfire! we donâãâªt even want to think about it or mention it so letâãâªs not do anything that leads to it #islam!                      2\n",
       "Name: target, dtype: int64"
      ]
     },
     "execution_count": 48,
     "metadata": {},
     "output_type": "execute_result"
    }
   ],
   "source": [
    "# Check for duplicates\n",
    "df_mislabeled = df.groupby(['text']).nunique().sort_values(by='target', ascending=False)\n",
    "df_mislabeled = df_mislabeled[df_mislabeled['target'] > 1]['target'] \n",
    "df_mislabeled\n"
   ]
  },
  {
   "cell_type": "code",
   "execution_count": 46,
   "metadata": {},
   "outputs": [
    {
     "data": {
      "text/plain": [
       "(13,)"
      ]
     },
     "execution_count": 46,
     "metadata": {},
     "output_type": "execute_result"
    }
   ],
   "source": [
    "# Tweets that are truly disaster tweets are:\n",
    "# .potus #strategicpatience is a strategy for #genocide; refugees; idp internally displaced people; horror; etc. https://t.co/rqwuoy1fm4        2\n",
    "# cleared:incident with injury:i-495 inner loop exit 31 - md 97/georgia ave silver spring                                                       2\n",
    "# who is bringing the tornadoes and floods. who is bringing the climate change. god is after america he is plaguing her #farrakhan #quote       2\n",
    "# rt notexplained: the only known image of infamous hijacker d.b. cooper. http://t.co/jlzk2hdetg                                                2\n",
    "# caution: breathing may be hazardous to your health.                                                                                           2\n",
    "\n",
    "# Drop those tweets\n",
    "not_mislabelled = ['.potus', 'cleared:incident', 'who is bringing', 'rt notexplained', 'caution: breathing']\n",
    "df_mislabeled = df_mislabeled[~df_mislabeled.index.str.contains('|'.join(not_mislabelled))]\n",
    "df_mislabeled.shape"
   ]
  },
  {
   "cell_type": "code",
   "execution_count": 50,
   "metadata": {},
   "outputs": [
    {
     "data": {
      "text/plain": [
       "(7501, 5)"
      ]
     },
     "execution_count": 50,
     "metadata": {},
     "output_type": "execute_result"
    }
   ],
   "source": [
    "# Label the rest of df_mislabelled as 0\n",
    "df.loc[df['text'].isin(df_mislabeled.index), 'target'] = 0\n",
    "\n",
    "# Remove any duplicates\n",
    "df = df.drop_duplicates(subset=['text'], keep='first')\n",
    "df.shape"
   ]
  },
  {
   "cell_type": "code",
   "execution_count": 51,
   "metadata": {},
   "outputs": [],
   "source": [
    "# Define X and y\n",
    "X = df['text']\n",
    "y = df['target']"
   ]
  },
  {
   "cell_type": "code",
   "execution_count": 98,
   "metadata": {},
   "outputs": [],
   "source": [
    "# Create a RandomizedSearchCV function to find the best parameters/hyperparameters tuning\n",
    "def RandomizedSearchCV_function(classifier, parameters, tune=True, X_train=None, y_train=None):\n",
    "    start_time = time.time()\n",
    "    # Define column transformer and pipeline\n",
    "    pipeline = Pipeline([\n",
    "        ('vect', TfidfVectorizer(analyzer='word',strip_accents=None, encoding='utf-8',preprocessor=None,ngram_range=(1, 2),token_pattern=r'(?u)\\b\\w[\\w-]*\\w\\b|\\b\\w+\\b', stop_words='english')),\n",
    "        ('clf', classifier)\n",
    "    ])\n",
    "\n",
    "    # Create a randomized search cross validation and no verbose\n",
    "    if tune:\n",
    "        random_search = HalvingRandomSearchCV(pipeline, parameters, scoring='f1', n_jobs=-1, cv=5, verbose=0, random_state=2023)\n",
    "        random_search.fit(X_train, y_train)\n",
    "        best_model = random_search.best_estimator_\n",
    "        print('Best score for {}: {}'.format(classifier.__class__.__name__, random_search.best_score_))\n",
    "        print('Best parameters: {}'.format(random_search.best_params_))\n",
    "    else:\n",
    "        best_model = pipeline.fit(X_train, y_train)\n",
    "        print('Score: {}: {}'.format(classifier.__class__.__name__, best_model.score(X_train, y_train)))\n",
    "        print('Parameters: {}'.format({k: v for k, v in best_model.get_params().items() if k in parameters}))\n",
    "        \n",
    "    print('Time taken: {:.2f} seconds'.format(time.time() - start_time))\n",
    "    print('='*50)\n",
    "    return best_model[:2]\n",
    "\n",
    "# Create a custom function to show performance and importance of features\n",
    "def show_performance(model_name, model, mode=\"full\", X_test=None, y_test=None):\n",
    "    # Predict the test set\n",
    "    y_pred = model.predict(X_test)\n",
    "\n",
    "    # Show scores\n",
    "    precision = precision_score(y_test, y_pred, average='binary') \n",
    "    recall = recall_score(y_test, y_pred, average='binary')\n",
    "    f1 = f1_score(y_test, y_pred, average='binary')\n",
    "    print('Model: {}'.format(model_name))\n",
    "    print('Precision score: {:.2f}'.format(precision))\n",
    "    print('Recall score: {:.2f}'.format(recall))\n",
    "    print('F1 score: {:.2f}'.format(f1))\n",
    "\n",
    "    # Full mode\n",
    "    if mode == \"full\":\n",
    "        print('Classification report of {} is:'.format(model_name))\n",
    "        print(classification_report(y_test, y_pred))\n",
    "        plt.figure(figsize=(10, 10))\n",
    "        sns.heatmap(confusion_matrix(y_test, y_pred), annot=True, fmt='d', linewidths=.5, square=True, cmap='Blues_r')\n",
    "        plt.ylabel('Actual label')\n",
    "        plt.xlabel('Predicted label')\n",
    "        all_sample_title = 'Accuracy Score: {:.2f}'.format(accuracy_score(y_test, y_pred))\n",
    "        plt.title(all_sample_title, size=15)\n",
    "        plt.show()\n",
    "        # ROC AUC score if model has predict_proba method\n",
    "        if hasattr(model, 'predict_proba'):\n",
    "            print('ROC AUC score: {:.2f}'.format(roc_auc_score(y_test, model.predict_proba(X_test)[:, 1])))\n",
    "        else:\n",
    "            confidence = model.decision_function(X_test)\n",
    "            confidence = confidence / np.sum(confidence, axis=1, keepdims=True)\n",
    "            roc_auc_score(y_test, confidence)\n",
    "\n",
    "        # Get the feature importance\n",
    "        if hasattr(model, 'final_estimator_'):\n",
    "            feature_importance = model.final_estimator_.coef_\n",
    "            models = model.named_estimators_\n",
    "            classes = model.classes_\n",
    "            # columns should be the name of the sub models\n",
    "            importance = pd.DataFrame(feature_importance, columns=models.keys())\n",
    "            return importance\n",
    "        elif hasattr(model.steps[1][1], 'coef_'):\n",
    "            feature_importance = model.steps[1][1].coef_\n",
    "        elif hasattr(model.steps[1][1], 'feature_importances_'):\n",
    "            feature_importance = model.steps[1][1].feature_importances_\n",
    "\n",
    "        # Normalize the importance to 2dp\n",
    "        try:\n",
    "            feature_importance = 100.0 * (feature_importance / feature_importance.max())\n",
    "            importance = pd.DataFrame({'importance_'+model_name: feature_importance[0]}, index=model.steps[0][1].get_feature_names())\n",
    "            importance = importance.sort_values('importance_'+model_name, ascending=False)\n",
    "            # Show the feature importance dataframe\n",
    "            print('Feature importance of {} is:'.format(model_name))\n",
    "            print(importance)\n",
    "        except:\n",
    "            print('No feature importance for {}'.format(model_name))\n",
    "    print('='*50)\n",
    "    \n",
    "    return model_name, precision, recall, f1\n",
    "\n",
    "def bulk_train(X_train=None, y_train=None, tune=True):\n",
    "    best_log = [\"LogisticRegression\",RandomizedSearchCV_function(LogisticRegression(), {'clf__C': (0.01, 0.1, 1),'clf__penalty': ('l1', 'l2'),'clf__solver': ('lbfgs','saga')}, tune=tune, X_train=X_train, y_train=y_train)]\n",
    "    best_rf = [\"RandomForestClassifier\",RandomizedSearchCV_function(RandomForestClassifier(), {'clf__n_estimators': (100, 200, 300, 400, 500),'clf__max_depth': (10, 20, 30, 40, 50, None),'clf__min_samples_split': (2, 5, 10, 15, 100),'clf__min_samples_leaf': (1, 2, 5, 10)}, tune=tune, X_train=X_train, y_train=y_train)]\n",
    "    best_xgb = [\"XGBClassifier\",RandomizedSearchCV_function(xgb.XGBClassifier(), {'clf__n_estimators': np.arange(100,300), 'clf__learning_rate': [0.0001,None,0.1,1], 'clf__n_jobs': (-1,)}, tune=tune, X_train=X_train, y_train=y_train)]\n",
    "    best_lgbm = [\"LGBMClassifier\",RandomizedSearchCV_function(LGBMClassifier(), {'clf__verbose': (-1,), 'clf__n_jobs': (-1,), 'clf__reg_alpha': np.arange(0.1,1,0.1), 'clf__reg_lambda': np.arange(0.1,1,0.1), 'clf__max_depth': (-1,), 'clf__silent': (True,)}, tune=tune, X_train=X_train, y_train=y_train)]\n",
    "\n",
    "    best_models = [best_log, best_rf, best_xgb, best_lgbm]\n",
    "    return best_models\n",
    "    "
   ]
  },
  {
   "attachments": {},
   "cell_type": "markdown",
   "metadata": {},
   "source": [
    "# All Models"
   ]
  },
  {
   "cell_type": "code",
   "execution_count": 67,
   "metadata": {},
   "outputs": [
    {
     "name": "stdout",
     "output_type": "stream",
     "text": [
      "Score: LogisticRegression: 0.9016666666666666\n",
      "Parameters: {'clf__C': 1.0, 'clf__penalty': 'l2', 'clf__solver': 'lbfgs'}\n",
      "Time taken: 0.68 seconds\n",
      "==================================================\n",
      "Score: RandomForestClassifier: 0.9996666666666667\n",
      "Parameters: {'clf__max_depth': None, 'clf__min_samples_leaf': 1, 'clf__min_samples_split': 2, 'clf__n_estimators': 100}\n",
      "Time taken: 18.17 seconds\n",
      "==================================================\n",
      "Score: XGBClassifier: 0.87\n",
      "Parameters: {'clf__learning_rate': None, 'clf__n_estimators': 100, 'clf__n_jobs': None}\n",
      "Time taken: 0.70 seconds\n",
      "==================================================\n",
      "Score: LGBMClassifier: 0.8523333333333334\n",
      "Parameters: {'clf__max_depth': -1, 'clf__n_jobs': -1, 'clf__reg_alpha': 0.0, 'clf__reg_lambda': 0.0, 'clf__silent': 'warn'}\n",
      "Time taken: 0.61 seconds\n",
      "==================================================\n"
     ]
    }
   ],
   "source": [
    "# Split data into train and test\n",
    "X_train, X_test, y_train, y_test = train_test_split(X, y, test_size=0.2, random_state=2023, stratify=y)\n",
    "\n",
    "# Train the models\n",
    "best_models = bulk_train(X_train, y_train, tune=False)"
   ]
  },
  {
   "cell_type": "code",
   "execution_count": 68,
   "metadata": {},
   "outputs": [
    {
     "name": "stdout",
     "output_type": "stream",
     "text": [
      "Model: LogisticRegression\n",
      "Precision score: 0.74\n",
      "Recall score: 0.68\n",
      "F1 score: 0.71\n",
      "==================================================\n",
      "Model: RandomForestClassifier\n",
      "Precision score: 0.86\n",
      "Recall score: 0.52\n",
      "F1 score: 0.65\n",
      "==================================================\n",
      "Model: XGBClassifier\n",
      "Precision score: 0.84\n",
      "Recall score: 0.51\n",
      "F1 score: 0.64\n",
      "==================================================\n",
      "Model: LGBMClassifier\n",
      "Precision score: 0.81\n",
      "Recall score: 0.61\n",
      "F1 score: 0.70\n",
      "==================================================\n"
     ]
    },
    {
     "data": {
      "text/html": [
       "<div>\n",
       "<style scoped>\n",
       "    .dataframe tbody tr th:only-of-type {\n",
       "        vertical-align: middle;\n",
       "    }\n",
       "\n",
       "    .dataframe tbody tr th {\n",
       "        vertical-align: top;\n",
       "    }\n",
       "\n",
       "    .dataframe thead th {\n",
       "        text-align: right;\n",
       "    }\n",
       "</style>\n",
       "<table border=\"1\" class=\"dataframe\">\n",
       "  <thead>\n",
       "    <tr style=\"text-align: right;\">\n",
       "      <th></th>\n",
       "      <th>Model</th>\n",
       "      <th>Precision</th>\n",
       "      <th>Recall</th>\n",
       "      <th>F1</th>\n",
       "    </tr>\n",
       "  </thead>\n",
       "  <tbody>\n",
       "    <tr>\n",
       "      <th>0</th>\n",
       "      <td>LogisticRegression</td>\n",
       "      <td>0.736486</td>\n",
       "      <td>0.683386</td>\n",
       "      <td>0.708943</td>\n",
       "    </tr>\n",
       "    <tr>\n",
       "      <th>3</th>\n",
       "      <td>LGBMClassifier</td>\n",
       "      <td>0.807851</td>\n",
       "      <td>0.612853</td>\n",
       "      <td>0.696970</td>\n",
       "    </tr>\n",
       "    <tr>\n",
       "      <th>1</th>\n",
       "      <td>RandomForestClassifier</td>\n",
       "      <td>0.861979</td>\n",
       "      <td>0.518809</td>\n",
       "      <td>0.647750</td>\n",
       "    </tr>\n",
       "    <tr>\n",
       "      <th>2</th>\n",
       "      <td>XGBClassifier</td>\n",
       "      <td>0.844156</td>\n",
       "      <td>0.509404</td>\n",
       "      <td>0.635386</td>\n",
       "    </tr>\n",
       "  </tbody>\n",
       "</table>\n",
       "</div>"
      ],
      "text/plain": [
       "                    Model  Precision    Recall        F1\n",
       "0      LogisticRegression   0.736486  0.683386  0.708943\n",
       "3          LGBMClassifier   0.807851  0.612853  0.696970\n",
       "1  RandomForestClassifier   0.861979  0.518809  0.647750\n",
       "2           XGBClassifier   0.844156  0.509404  0.635386"
      ]
     },
     "execution_count": 68,
     "metadata": {},
     "output_type": "execute_result"
    }
   ],
   "source": [
    "# Create a dataframe to show the performance of the models\n",
    "performance = [show_performance(*model, mode='lite', X_test=X_test, y_test=y_test) for model in best_models]\n",
    "df_performance = pd.DataFrame(performance, columns=['Model', 'Precision', 'Recall', 'F1'])\n",
    "df_performance.sort_values('F1', ascending=False)"
   ]
  },
  {
   "attachments": {},
   "cell_type": "markdown",
   "metadata": {},
   "source": [
    "Now we try to tune the models to see if we can get better results."
   ]
  },
  {
   "cell_type": "code",
   "execution_count": 72,
   "metadata": {},
   "outputs": [
    {
     "name": "stdout",
     "output_type": "stream",
     "text": [
      "Best score for LogisticRegression: 0.5027257799671594\n",
      "Best parameters: {'clf__solver': 'lbfgs', 'clf__penalty': 'l2', 'clf__C': 1}\n",
      "Time taken: 0.60 seconds\n",
      "==================================================\n",
      "Best score for RandomForestClassifier: 0.592349432654024\n",
      "Best parameters: {'clf__n_estimators': 200, 'clf__min_samples_split': 10, 'clf__min_samples_leaf': 2, 'clf__max_depth': 50}\n",
      "Time taken: 44.43 seconds\n",
      "==================================================\n",
      "Best score for XGBClassifier: 0.6197140103349104\n",
      "Best parameters: {'clf__n_jobs': -1, 'clf__n_estimators': 291, 'clf__learning_rate': 0.1}\n",
      "Time taken: 17.12 seconds\n",
      "==================================================\n",
      "Best score for LGBMClassifier: 0.42811959028398194\n",
      "Best parameters: {'clf__verbose': -1, 'clf__silent': True, 'clf__reg_lambda': 0.4, 'clf__reg_alpha': 0.1, 'clf__n_jobs': -1, 'clf__max_depth': -1}\n",
      "Time taken: 1.72 seconds\n",
      "==================================================\n"
     ]
    }
   ],
   "source": [
    "# Split data into train and test\n",
    "X_train, X_test, y_train, y_test = train_test_split(X, y, test_size=0.2, random_state=2023, stratify=df['keyword'])\n",
    "\n",
    "# Train the models\n",
    "best_models = bulk_train(X_train, y_train)"
   ]
  },
  {
   "cell_type": "code",
   "execution_count": 73,
   "metadata": {},
   "outputs": [
    {
     "name": "stdout",
     "output_type": "stream",
     "text": [
      "Model: LogisticRegression\n",
      "Precision score: 0.77\n",
      "Recall score: 0.67\n",
      "F1 score: 0.72\n",
      "==================================================\n",
      "Model: RandomForestClassifier\n",
      "Precision score: 0.94\n",
      "Recall score: 0.43\n",
      "F1 score: 0.58\n",
      "==================================================\n",
      "Model: XGBClassifier\n",
      "Precision score: 0.89\n",
      "Recall score: 0.53\n",
      "F1 score: 0.67\n",
      "==================================================\n",
      "Model: LGBMClassifier\n",
      "Precision score: 0.82\n",
      "Recall score: 0.63\n",
      "F1 score: 0.71\n",
      "==================================================\n"
     ]
    },
    {
     "data": {
      "text/html": [
       "<div>\n",
       "<style scoped>\n",
       "    .dataframe tbody tr th:only-of-type {\n",
       "        vertical-align: middle;\n",
       "    }\n",
       "\n",
       "    .dataframe tbody tr th {\n",
       "        vertical-align: top;\n",
       "    }\n",
       "\n",
       "    .dataframe thead th {\n",
       "        text-align: right;\n",
       "    }\n",
       "</style>\n",
       "<table border=\"1\" class=\"dataframe\">\n",
       "  <thead>\n",
       "    <tr style=\"text-align: right;\">\n",
       "      <th></th>\n",
       "      <th>Model</th>\n",
       "      <th>Precision</th>\n",
       "      <th>Recall</th>\n",
       "      <th>F1</th>\n",
       "    </tr>\n",
       "  </thead>\n",
       "  <tbody>\n",
       "    <tr>\n",
       "      <th>0</th>\n",
       "      <td>LogisticRegression</td>\n",
       "      <td>0.767196</td>\n",
       "      <td>0.670262</td>\n",
       "      <td>0.715461</td>\n",
       "    </tr>\n",
       "    <tr>\n",
       "      <th>3</th>\n",
       "      <td>LGBMClassifier</td>\n",
       "      <td>0.823529</td>\n",
       "      <td>0.625578</td>\n",
       "      <td>0.711033</td>\n",
       "    </tr>\n",
       "    <tr>\n",
       "      <th>2</th>\n",
       "      <td>XGBClassifier</td>\n",
       "      <td>0.894330</td>\n",
       "      <td>0.534669</td>\n",
       "      <td>0.669238</td>\n",
       "    </tr>\n",
       "    <tr>\n",
       "      <th>1</th>\n",
       "      <td>RandomForestClassifier</td>\n",
       "      <td>0.935593</td>\n",
       "      <td>0.425270</td>\n",
       "      <td>0.584746</td>\n",
       "    </tr>\n",
       "  </tbody>\n",
       "</table>\n",
       "</div>"
      ],
      "text/plain": [
       "                    Model  Precision    Recall        F1\n",
       "0      LogisticRegression   0.767196  0.670262  0.715461\n",
       "3          LGBMClassifier   0.823529  0.625578  0.711033\n",
       "2           XGBClassifier   0.894330  0.534669  0.669238\n",
       "1  RandomForestClassifier   0.935593  0.425270  0.584746"
      ]
     },
     "execution_count": 73,
     "metadata": {},
     "output_type": "execute_result"
    }
   ],
   "source": [
    "# Create a dataframe to show the performance of the models\n",
    "performance = [show_performance(*model, mode='lite', X_test=X_test, y_test=y_test) for model in best_models]\n",
    "df_performance = pd.DataFrame(performance, columns=['Model', 'Precision', 'Recall', 'F1'])\n",
    "df_performance.sort_values('F1', ascending=False)"
   ]
  },
  {
   "attachments": {},
   "cell_type": "markdown",
   "metadata": {},
   "source": [
    "# Simple Stacking Classifier"
   ]
  },
  {
   "cell_type": "code",
   "execution_count": 111,
   "metadata": {},
   "outputs": [],
   "source": [
    "def stacking(df, best_models, threshold=0.6, X_test=None, y_test=None):\n",
    "    # Create a stacking classifier\n",
    "    stack = StackingClassifier(estimators=[best_models[i] for i in df[df['F1'] >= threshold].index], n_jobs=-1, passthrough=False, verbose=1)\n",
    "    stack.fit(X_train, y_train)\n",
    "\n",
    "    # Show the performance of the stacking classifier\n",
    "    imp_stack = show_performance('StackingClassifier', stack, mode='full', X_test=X_test, y_test=y_test)\n",
    "\n",
    "    # Transpose the importance of each model\n",
    "    imp_minmax = imp_stack.T.reset_index()\n",
    "    imp_minmax.columns = ['Model', 'Importance']\n",
    "\n",
    "    # Convert the importance to percentage\n",
    "    imp_minmax['Importance'] = imp_minmax['Importance'] / imp_minmax['Importance'].sum() * 100\n",
    "    imp_minmax['Importance'] = imp_minmax['Importance'].round(2).astype(str) + '%'\n",
    "    print(imp_minmax)\n",
    "    \n",
    "    return stack, imp_minmax"
   ]
  },
  {
   "cell_type": "code",
   "execution_count": 112,
   "metadata": {},
   "outputs": [
    {
     "name": "stdout",
     "output_type": "stream",
     "text": [
      "Model: StackingClassifier\n",
      "Precision score: 0.80\n",
      "Recall score: 0.68\n",
      "F1 score: 0.74\n",
      "Classification report of StackingClassifier is:\n",
      "              precision    recall  f1-score   support\n",
      "\n",
      "           0       0.78      0.87      0.83       852\n",
      "           1       0.80      0.68      0.74       649\n",
      "\n",
      "    accuracy                           0.79      1501\n",
      "   macro avg       0.79      0.78      0.78      1501\n",
      "weighted avg       0.79      0.79      0.79      1501\n",
      "\n"
     ]
    },
    {
     "data": {
      "image/png": "[encoded data removed]",
      "text/plain": [
       "<Figure size 1000x1000 with 2 Axes>"
      ]
     },
     "metadata": {},
     "output_type": "display_data"
    },
    {
     "name": "stdout",
     "output_type": "stream",
     "text": [
      "ROC AUC score: 0.86\n",
      "                Model Importance\n",
      "0  LogisticRegression     50.39%\n",
      "1       XGBClassifier      31.9%\n",
      "2      LGBMClassifier     17.71%\n"
     ]
    }
   ],
   "source": [
    "stack, imp_minmax = stacking(df_performance, best_models, X_test=X_test, y_test=y_test)"
   ]
  },
  {
   "attachments": {},
   "cell_type": "markdown",
   "metadata": {},
   "source": [
    "# Voting Classifier"
   ]
  },
  {
   "cell_type": "code",
   "execution_count": 115,
   "metadata": {},
   "outputs": [],
   "source": [
    "def voting(df, best_models, threshold=0.6, X_test=None, y_test=None):\n",
    "    # Create a Soft Voting Classifier\n",
    "    vote = VotingClassifier(estimators=[best_models[i] for i in df[df['F1'] >= threshold].index], n_jobs=-1, verbose=1)\n",
    "    vote.fit(X_train, y_train)\n",
    "\n",
    "    # Show the performance of the voting classifier\n",
    "    imp_vote = show_performance('VotingClassifier', vote, mode='lite', X_test=X_test, y_test=y_test)\n",
    "\n",
    "    return vote, imp_vote"
   ]
  },
  {
   "cell_type": "code",
   "execution_count": 116,
   "metadata": {},
   "outputs": [
    {
     "name": "stdout",
     "output_type": "stream",
     "text": [
      "Model: VotingClassifier\n",
      "Precision score: 0.86\n",
      "Recall score: 0.62\n",
      "F1 score: 0.72\n",
      "==================================================\n"
     ]
    }
   ],
   "source": [
    "vote, imp_vote = voting(df_performance, best_models, X_test=X_test, y_test=y_test)"
   ]
  }
 ],
 "metadata": {
  "kernelspec": {
   "display_name": "Python 3",
   "language": "python",
   "name": "python3"
  },
  "language_info": {
   "codemirror_mode": {
    "name": "ipython",
    "version": 3
   },
   "file_extension": ".py",
   "mimetype": "text/x-python",
   "name": "python",
   "nbconvert_exporter": "python",
   "pygments_lexer": "ipython3",
   "version": "3.11.0"
  },
  "orig_nbformat": 4,
  "vscode": {
   "interpreter": {
    "hash": "f72c34bb2e2aa76acaec51e5a386e2497fab8a5e682a38cfc0469e5a4ec35b0f"
   }
  }
 },
 "nbformat": 4,
 "nbformat_minor": 2
}
