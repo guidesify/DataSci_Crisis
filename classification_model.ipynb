{
 "cells": [
  {
   "cell_type": "code",
   "execution_count": 1,
   "metadata": {},
   "outputs": [
    {
     "name": "stderr",
     "output_type": "stream",
     "text": [
      "[nltk_data] Downloading package wordnet to\n",
      "[nltk_data]     C:\\Users\\yong_\\AppData\\Roaming\\nltk_data...\n",
      "[nltk_data]   Package wordnet is already up-to-date!\n",
      "[nltk_data] Downloading package omw-1.4 to\n",
      "[nltk_data]     C:\\Users\\yong_\\AppData\\Roaming\\nltk_data...\n",
      "[nltk_data]   Package omw-1.4 is already up-to-date!\n",
      "c:\\Python39\\lib\\site-packages\\xgboost\\compat.py:93: FutureWarning: pandas.Int64Index is deprecated and will be removed from pandas in a future version. Use pandas.Index with the appropriate dtype instead.\n",
      "  from pandas import MultiIndex, Int64Index\n"
     ]
    }
   ],
   "source": [
    "# Export requirements.txt for only the packages used in this notebook\n",
    "# pip install pipreqs\n",
    "# !pipreqs --force .\n",
    "import os\n",
    "import re\n",
    "import glob\n",
    "import time\n",
    "import string\n",
    "import pandas as pd\n",
    "import warnings\n",
    "import win32com.client as win32\n",
    "import seaborn as sns\n",
    "import matplotlib.pyplot as plt\n",
    "import numpy as np\n",
    "\n",
    "from nltk.stem.wordnet import WordNetLemmatizer\n",
    "from nltk.stem import PorterStemmer\n",
    "import nltk \n",
    "nltk.download('wordnet')\n",
    "nltk.download('omw-1.4')\n",
    "\n",
    "from sklearn import set_config\n",
    "from sklearn.pipeline import Pipeline\n",
    "from sklearn.compose import ColumnTransformer\n",
    "from sklearn.experimental import enable_halving_search_cv\n",
    "from sklearn.model_selection import train_test_split, HalvingRandomSearchCV\n",
    "from sklearn.feature_extraction.text import TfidfVectorizer, CountVectorizer\n",
    "from sklearn.metrics import accuracy_score, precision_score, recall_score, f1_score, roc_auc_score, confusion_matrix, classification_report\n",
    "from sklearn.preprocessing import MinMaxScaler, OneHotEncoder\n",
    "from sklearn.linear_model import LogisticRegression\n",
    "from sklearn.ensemble import RandomForestClassifier, StackingClassifier, VotingClassifier\n",
    "import xgboost as xgb\n",
    "from lightgbm import LGBMClassifier\n",
    "\n",
    "warnings.filterwarnings('ignore')\n",
    "set_config(display='diagram')\n",
    "dir_path = os.getcwd() + '\\\\'\n",
    "\n",
    "# Only works in Windows with Excel installed\n",
    "def set_options(xl, option):\n",
    "    try:\n",
    "        xl.Visible = option\n",
    "        xl.ScreenUpdating = option\n",
    "        xl.DisplayAlerts = option\n",
    "        xl.EnableEvents = option\n",
    "    except: \n",
    "        pass\n",
    "\n",
    "def convert(file):\n",
    "    file = os.path.splitext(file)[0]\n",
    "    print(\"Converting {}...\".format(file))\n",
    "    xl = win32.gencache.EnsureDispatch('Excel.Application')\n",
    "    set_options(xl, False)\n",
    "\n",
    "    # check if file with .csv exists\n",
    "    if not os.path.isfile(dir_path + file + '.csv'):\n",
    "        try:\n",
    "            wb = xl.Workbooks.Open(Filename= dir_path + file + '.xlsx',ReadOnly=1)\n",
    "        except:\n",
    "            wb = xl.Workbooks.Open(Filename= dir_path + file + '.xlsb',ReadOnly=1)  \n",
    "        xl.ActiveWorkbook == wb\n",
    "        \n",
    "        #6 means csv\n",
    "        wb.SaveAs(Filename= dir_path + file + '.csv', FileFormat='6') \n",
    "        set_options(xl, True)\n",
    "        wb.Close(True)\n",
    "        xl.Application.Quit()\n",
    "        wb=xl=None\n",
    "    \n",
    "    df = pd.read_csv(dir_path + file + '.csv', low_memory = False, encoding='utf-8')\n",
    "    df.to_pickle(dir_path + file + '.pkl')\n",
    "\n",
    "    print(\"Done converting {}...\".format(file))\n",
    "    return file + '.pkl'\n",
    "\n",
    "def read(i):\n",
    "    try:\n",
    "        pkl = glob.glob(os.path.join('*{0}*.pkl'.format(i)))[0]\n",
    "    except: \n",
    "        pkl = convert(glob.glob(os.path.join('*{0}*'.format(i)))[0])\n",
    "    df = pd.read_pickle(dir_path + pkl)\n",
    "    return df"
   ]
  },
  {
   "cell_type": "code",
   "execution_count": 2,
   "metadata": {},
   "outputs": [
    {
     "data": {
      "text/html": [
       "<div>\n",
       "<style scoped>\n",
       "    .dataframe tbody tr th:only-of-type {\n",
       "        vertical-align: middle;\n",
       "    }\n",
       "\n",
       "    .dataframe tbody tr th {\n",
       "        vertical-align: top;\n",
       "    }\n",
       "\n",
       "    .dataframe thead th {\n",
       "        text-align: right;\n",
       "    }\n",
       "</style>\n",
       "<table border=\"1\" class=\"dataframe\">\n",
       "  <thead>\n",
       "    <tr style=\"text-align: right;\">\n",
       "      <th></th>\n",
       "      <th>id</th>\n",
       "      <th>keyword</th>\n",
       "      <th>location</th>\n",
       "      <th>text</th>\n",
       "      <th>target</th>\n",
       "    </tr>\n",
       "  </thead>\n",
       "  <tbody>\n",
       "    <tr>\n",
       "      <th>0</th>\n",
       "      <td>1</td>\n",
       "      <td>NaN</td>\n",
       "      <td>NaN</td>\n",
       "      <td>Our Deeds are the Reason of this #earthquake M...</td>\n",
       "      <td>1</td>\n",
       "    </tr>\n",
       "    <tr>\n",
       "      <th>1</th>\n",
       "      <td>4</td>\n",
       "      <td>NaN</td>\n",
       "      <td>NaN</td>\n",
       "      <td>Forest fire near La Ronge Sask. Canada</td>\n",
       "      <td>1</td>\n",
       "    </tr>\n",
       "    <tr>\n",
       "      <th>2</th>\n",
       "      <td>5</td>\n",
       "      <td>NaN</td>\n",
       "      <td>NaN</td>\n",
       "      <td>All residents asked to 'shelter in place' are ...</td>\n",
       "      <td>1</td>\n",
       "    </tr>\n",
       "    <tr>\n",
       "      <th>3</th>\n",
       "      <td>6</td>\n",
       "      <td>NaN</td>\n",
       "      <td>NaN</td>\n",
       "      <td>13,000 people receive #wildfires evacuation or...</td>\n",
       "      <td>1</td>\n",
       "    </tr>\n",
       "    <tr>\n",
       "      <th>4</th>\n",
       "      <td>7</td>\n",
       "      <td>NaN</td>\n",
       "      <td>NaN</td>\n",
       "      <td>Just got sent this photo from Ruby #Alaska as ...</td>\n",
       "      <td>1</td>\n",
       "    </tr>\n",
       "  </tbody>\n",
       "</table>\n",
       "</div>"
      ],
      "text/plain": [
       "   id keyword location                                               text  \\\n",
       "0   1     NaN      NaN  Our Deeds are the Reason of this #earthquake M...   \n",
       "1   4     NaN      NaN             Forest fire near La Ronge Sask. Canada   \n",
       "2   5     NaN      NaN  All residents asked to 'shelter in place' are ...   \n",
       "3   6     NaN      NaN  13,000 people receive #wildfires evacuation or...   \n",
       "4   7     NaN      NaN  Just got sent this photo from Ruby #Alaska as ...   \n",
       "\n",
       "   target  \n",
       "0       1  \n",
       "1       1  \n",
       "2       1  \n",
       "3       1  \n",
       "4       1  "
      ]
     },
     "execution_count": 2,
     "metadata": {},
     "output_type": "execute_result"
    }
   ],
   "source": [
    "# Pickle dataset, delete resume.pkl if you are facing issues\n",
    "i = \"train\"\n",
    "df = read(i)\n",
    "\n",
    "df.head()"
   ]
  },
  {
   "cell_type": "code",
   "execution_count": 3,
   "metadata": {},
   "outputs": [
    {
     "data": {
      "text/html": [
       "<div>\n",
       "<style scoped>\n",
       "    .dataframe tbody tr th:only-of-type {\n",
       "        vertical-align: middle;\n",
       "    }\n",
       "\n",
       "    .dataframe tbody tr th {\n",
       "        vertical-align: top;\n",
       "    }\n",
       "\n",
       "    .dataframe thead th {\n",
       "        text-align: right;\n",
       "    }\n",
       "</style>\n",
       "<table border=\"1\" class=\"dataframe\">\n",
       "  <thead>\n",
       "    <tr style=\"text-align: right;\">\n",
       "      <th></th>\n",
       "      <th>id</th>\n",
       "      <th>keyword</th>\n",
       "      <th>location</th>\n",
       "      <th>text</th>\n",
       "      <th>target</th>\n",
       "      <th>word_count</th>\n",
       "      <th>unique_word_count</th>\n",
       "      <th>stop_word_count</th>\n",
       "      <th>mean_word_length</th>\n",
       "      <th>char_count</th>\n",
       "      <th>punctuation_count</th>\n",
       "    </tr>\n",
       "  </thead>\n",
       "  <tbody>\n",
       "    <tr>\n",
       "      <th>0</th>\n",
       "      <td>1</td>\n",
       "      <td>others</td>\n",
       "      <td>Others</td>\n",
       "      <td>our deeds are the reason of this #earthquake m...</td>\n",
       "      <td>1</td>\n",
       "      <td>13</td>\n",
       "      <td>13</td>\n",
       "      <td>6</td>\n",
       "      <td>4.384615</td>\n",
       "      <td>69</td>\n",
       "      <td>1</td>\n",
       "    </tr>\n",
       "    <tr>\n",
       "      <th>1</th>\n",
       "      <td>4</td>\n",
       "      <td>others</td>\n",
       "      <td>Others</td>\n",
       "      <td>forest fire near la ronge sask. canada</td>\n",
       "      <td>1</td>\n",
       "      <td>7</td>\n",
       "      <td>7</td>\n",
       "      <td>0</td>\n",
       "      <td>4.571429</td>\n",
       "      <td>38</td>\n",
       "      <td>1</td>\n",
       "    </tr>\n",
       "    <tr>\n",
       "      <th>2</th>\n",
       "      <td>5</td>\n",
       "      <td>others</td>\n",
       "      <td>Others</td>\n",
       "      <td>all residents asked to 'shelter in place' are ...</td>\n",
       "      <td>1</td>\n",
       "      <td>22</td>\n",
       "      <td>20</td>\n",
       "      <td>11</td>\n",
       "      <td>5.090909</td>\n",
       "      <td>133</td>\n",
       "      <td>3</td>\n",
       "    </tr>\n",
       "    <tr>\n",
       "      <th>3</th>\n",
       "      <td>6</td>\n",
       "      <td>others</td>\n",
       "      <td>Others</td>\n",
       "      <td>13,000 people receive #wildfires evacuation or...</td>\n",
       "      <td>1</td>\n",
       "      <td>8</td>\n",
       "      <td>8</td>\n",
       "      <td>1</td>\n",
       "      <td>7.125000</td>\n",
       "      <td>65</td>\n",
       "      <td>2</td>\n",
       "    </tr>\n",
       "    <tr>\n",
       "      <th>4</th>\n",
       "      <td>7</td>\n",
       "      <td>others</td>\n",
       "      <td>Others</td>\n",
       "      <td>just got sent this photo from ruby #alaska as ...</td>\n",
       "      <td>1</td>\n",
       "      <td>16</td>\n",
       "      <td>15</td>\n",
       "      <td>7</td>\n",
       "      <td>4.500000</td>\n",
       "      <td>88</td>\n",
       "      <td>2</td>\n",
       "    </tr>\n",
       "  </tbody>\n",
       "</table>\n",
       "</div>"
      ],
      "text/plain": [
       "   id keyword location                                               text  \\\n",
       "0   1  others   Others  our deeds are the reason of this #earthquake m...   \n",
       "1   4  others   Others             forest fire near la ronge sask. canada   \n",
       "2   5  others   Others  all residents asked to 'shelter in place' are ...   \n",
       "3   6  others   Others  13,000 people receive #wildfires evacuation or...   \n",
       "4   7  others   Others  just got sent this photo from ruby #alaska as ...   \n",
       "\n",
       "   target  word_count  unique_word_count  stop_word_count  mean_word_length  \\\n",
       "0       1          13                 13                6          4.384615   \n",
       "1       1           7                  7                0          4.571429   \n",
       "2       1          22                 20               11          5.090909   \n",
       "3       1           8                  8                1          7.125000   \n",
       "4       1          16                 15                7          4.500000   \n",
       "\n",
       "   char_count  punctuation_count  \n",
       "0          69                  1  \n",
       "1          38                  1  \n",
       "2         133                  3  \n",
       "3          65                  2  \n",
       "4          88                  2  "
      ]
     },
     "execution_count": 3,
     "metadata": {},
     "output_type": "execute_result"
    }
   ],
   "source": [
    "# To make it more realistic, we shouldn't use the keyword as feature, but we can use to stratify the data for the train and test sets later on\n",
    "# Those with NaN, replace with others\n",
    "df['keyword'] = df['keyword'].fillna('others')\n",
    "LOCATION_KEYS = df['location'].value_counts().keys()\n",
    "df['location'] = df['location'].apply(lambda x: x if x in LOCATION_KEYS else 'Others')\n",
    "\n",
    "# Create meta features from text\n",
    "STOPWORDS = set(nltk.corpus.stopwords.words('english'))\n",
    "df['word_count'] = df['text'].apply(lambda x: len(str(x).split()))\n",
    "df['unique_word_count'] = df['text'].apply(lambda x: len(set(str(x).split())))\n",
    "df['stop_word_count'] = df['text'].apply(lambda x: len([w for w in str(x).lower().split() if w in STOPWORDS]))\n",
    "df['mean_word_length'] = df['text'].apply(lambda x: np.mean([len(w) for w in str(x).split()]))\n",
    "df['char_count'] = df['text'].apply(lambda x: len(str(x)))\n",
    "df['punctuation_count'] = df['text'].apply(lambda x: len([c for c in str(x) if c in string.punctuation]))\n",
    "\n",
    "# Do a brief cleaning of the data\n",
    "df['text'] = [re.sub('\\s+', ' ', x) for x in df['text']] # This removes all extra spaces\n",
    "df['text'] = [x.lower() for x in df['text']] # lowercase \n",
    "\n",
    "df.head()\n"
   ]
  },
  {
   "cell_type": "code",
   "execution_count": 4,
   "metadata": {},
   "outputs": [
    {
     "name": "stdout",
     "output_type": "stream",
     "text": [
      "0    4342\n",
      "1    3271\n",
      "Name: target, dtype: int64\n"
     ]
    }
   ],
   "source": [
    "# Number of rows of 1 and 0\n",
    "print(df['target'].value_counts())"
   ]
  },
  {
   "cell_type": "code",
   "execution_count": 5,
   "metadata": {},
   "outputs": [
    {
     "data": {
      "text/plain": [
       "text\n",
       "#allah describes piling up #wealth thinking it would last #forever as the description of the people of #hellfire in surah humaza. #reflect    2\n",
       "he came to a land which was engulfed in tribal war and turned it into a land of peace i.e. madinah. #prophetmuhammad #islam                   2\n",
       "mmmmmm i'm burning.... i'm burning buildings i'm building.... oooooohhhh oooh ooh...                                                          2\n",
       ".potus #strategicpatience is a strategy for #genocide; refugees; idp internally displaced people; horror; etc. https://t.co/rqwuoy1fm4        2\n",
       "that horrible sinking feeling when youûªve been at home on your phone for a while and you realise its been on 3g this whole time             2\n",
       "hellfire is surrounded by desires so be careful and donûªt let your desires control you! #afterlife                                          2\n",
       "i pledge allegiance to the p.o.p.e. and the burning buildings of epic city. ??????                                                            2\n",
       "cleared:incident with injury:i-495 inner loop exit 31 - md 97/georgia ave silver spring                                                       2\n",
       "rt notexplained: the only known image of infamous hijacker d.b. cooper. http://t.co/jlzk2hdetg                                                2\n",
       "to fight bioterrorism sir.                                                                                                                    2\n",
       "caution: breathing may be hazardous to your health.                                                                                           2\n",
       "#foodscare #offers2go #nestleindia slips into loss after #magginoodle #ban unsafe and hazardous for #humanconsumption                         2\n",
       "wowo--=== 12000 nigerian refugees repatriated from cameroon                                                                                   2\n",
       "like for the music video i want some real action shit like burning buildings and police chases not some weak ben winston shit                 2\n",
       "who is bringing the tornadoes and floods. who is bringing the climate change. god is after america he is plaguing her #farrakhan #quote       2\n",
       "the prophet (peace be upon him) said 'save yourself from hellfire even if it is by giving half a date in charity.'                            2\n",
       "in #islam saving a person is equal in reward to saving all humans! islam is the opposite of terrorism!                                        2\n",
       "hellfire! we donûªt even want to think about it or mention it so letûªs not do anything that leads to it #islam!                            2\n",
       "Name: target, dtype: int64"
      ]
     },
     "execution_count": 5,
     "metadata": {},
     "output_type": "execute_result"
    }
   ],
   "source": [
    "# Check for duplicates\n",
    "df_mislabeled = df.groupby(['text']).nunique().sort_values(by='target', ascending=False)\n",
    "df_mislabeled = df_mislabeled[df_mislabeled['target'] > 1]['target'] \n",
    "df_mislabeled\n"
   ]
  },
  {
   "cell_type": "code",
   "execution_count": 6,
   "metadata": {},
   "outputs": [
    {
     "data": {
      "text/plain": [
       "(13,)"
      ]
     },
     "execution_count": 6,
     "metadata": {},
     "output_type": "execute_result"
    }
   ],
   "source": [
    "# Tweets that are truly disaster tweets are:\n",
    "# .potus #strategicpatience is a strategy for #genocide; refugees; idp internally displaced people; horror; etc. https://t.co/rqwuoy1fm4        2\n",
    "# cleared:incident with injury:i-495 inner loop exit 31 - md 97/georgia ave silver spring                                                       2\n",
    "# who is bringing the tornadoes and floods. who is bringing the climate change. god is after america he is plaguing her #farrakhan #quote       2\n",
    "# rt notexplained: the only known image of infamous hijacker d.b. cooper. http://t.co/jlzk2hdetg                                                2\n",
    "# caution: breathing may be hazardous to your health.                                                                                           2\n",
    "\n",
    "# Drop those tweets\n",
    "not_mislabelled = ['.potus', 'cleared:incident', 'who is bringing', 'rt notexplained', 'caution: breathing']\n",
    "df_mislabeled = df_mislabeled[~df_mislabeled.index.str.contains('|'.join(not_mislabelled))]\n",
    "df_mislabeled.shape"
   ]
  },
  {
   "cell_type": "code",
   "execution_count": 7,
   "metadata": {},
   "outputs": [
    {
     "data": {
      "text/plain": [
       "(7501, 11)"
      ]
     },
     "execution_count": 7,
     "metadata": {},
     "output_type": "execute_result"
    }
   ],
   "source": [
    "# Label the rest of df_mislabelled as 0\n",
    "df.loc[df['text'].isin(df_mislabeled.index), 'target'] = 0\n",
    "\n",
    "# Remove any duplicates\n",
    "df = df.drop_duplicates(subset=['text'], keep='first')\n",
    "df.shape"
   ]
  },
  {
   "cell_type": "code",
   "execution_count": 8,
   "metadata": {},
   "outputs": [],
   "source": [
    "# Define X and y\n",
    "# X is everything except target, location, keyword\n",
    "X = df.drop(['target', 'keyword'], axis=1)\n",
    "y = df['target']\n",
    "\n",
    "# Meta columns list\n",
    "meta_cols = ['word_count', 'unique_word_count', 'stop_word_count', 'mean_word_length', 'char_count', 'punctuation_count']"
   ]
  },
  {
   "cell_type": "code",
   "execution_count": 9,
   "metadata": {},
   "outputs": [],
   "source": [
    "# Create a RandomizedSearchCV function to find the best parameters/hyperparameters tuning\n",
    "def RandomizedSearchCV_function(classifier, parameters, tune=True, X_train=None, y_train=None):\n",
    "    start_time = time.time()\n",
    "    # Define column transformer and pipeline\n",
    "    column_transformer = ColumnTransformer([\n",
    "        ('vect', TfidfVectorizer(analyzer='word',strip_accents=None, encoding='utf-8',preprocessor=None,ngram_range=(1, 2),token_pattern=r'(?u)\\b\\w[\\w-]*\\w\\b|\\b\\w+\\b', stop_words='english'), 'text'),\n",
    "        ('meta', 'passthrough', meta_cols),\n",
    "        ('location', CountVectorizer(), 'location'),\n",
    "    ])\n",
    "    pipeline = Pipeline([\n",
    "        ('col_transformer', column_transformer),\n",
    "        ('clf', classifier)\n",
    "    ])\n",
    "\n",
    "    # Create a randomized search cross validation and no verbose\n",
    "    if tune:\n",
    "        random_search = HalvingRandomSearchCV(pipeline, parameters, scoring='f1', n_jobs=-1, cv=5, verbose=0, random_state=2023) \n",
    "        random_search.fit(X_train, y_train)\n",
    "        best_model = random_search.best_estimator_\n",
    "        print('Best score for {}: {}'.format(classifier.__class__.__name__, random_search.best_score_))\n",
    "        print('Best parameters: {}'.format(random_search.best_params_))\n",
    "    else:\n",
    "        best_model = pipeline.fit(X_train, y_train)\n",
    "        print('Score: {}: {}'.format(classifier.__class__.__name__, best_model.score(X_train, y_train)))\n",
    "        print('Parameters: {}'.format({k: v for k, v in best_model.get_params().items() if k in parameters}))\n",
    "        \n",
    "    print('Time taken: {:.2f} seconds'.format(time.time() - start_time))\n",
    "    print('='*50)\n",
    "    return best_model[:2]\n",
    "\n",
    "# Create a custom function to show performance and importance of features\n",
    "def show_performance(model_name, model, mode=\"full\", X_test=None, y_test=None):\n",
    "    # Predict the test set\n",
    "    y_pred = model.predict(X_test)\n",
    "\n",
    "    # Show scores\n",
    "    precision = precision_score(y_test, y_pred, average='binary') \n",
    "    recall = recall_score(y_test, y_pred, average='binary')\n",
    "    f1 = f1_score(y_test, y_pred, average='binary')\n",
    "    print('Model: {}'.format(model_name))\n",
    "    print('Precision score: {:.2f}'.format(precision))\n",
    "    print('Recall score: {:.2f}'.format(recall))\n",
    "    print('F1 score: {:.2f}'.format(f1))\n",
    "\n",
    "    # Full mode\n",
    "    if mode == \"full\":\n",
    "        print('Classification report of {} is:'.format(model_name))\n",
    "        print(classification_report(y_test, y_pred))\n",
    "        plt.figure(figsize=(10, 10))\n",
    "        sns.heatmap(confusion_matrix(y_test, y_pred), annot=True, fmt='d', linewidths=.5, square=True, cmap='Blues_r')\n",
    "        plt.ylabel('Actual label')\n",
    "        plt.xlabel('Predicted label')\n",
    "        all_sample_title = 'F1 Score for Pos Label: {:.2f}'.format(f1)\n",
    "        plt.title(all_sample_title, size=15)\n",
    "        plt.show()\n",
    "        # ROC AUC score if model has predict_proba method\n",
    "        if hasattr(model, 'predict_proba'):\n",
    "            print('ROC AUC score: {:.2f}'.format(roc_auc_score(y_test, model.predict_proba(X_test)[:, 1])))\n",
    "        else:\n",
    "            confidence = model.decision_function(X_test)\n",
    "            confidence = confidence / np.sum(confidence, axis=1, keepdims=True)\n",
    "            roc_auc_score(y_test, confidence)\n",
    "\n",
    "        # Get the feature importance\n",
    "        if hasattr(model, 'final_estimator_'):\n",
    "            feature_importance = model.final_estimator_.coef_\n",
    "            models = model.named_estimators_\n",
    "            classes = model.classes_\n",
    "            # columns should be the name of the sub models\n",
    "            importance = pd.DataFrame(feature_importance, columns=models.keys())\n",
    "            return importance\n",
    "        # for voting classifier, it does not have final_estimator_ we can get our feature importance from the sub models\n",
    "        elif hasattr(model, 'named_estimators_'):\n",
    "            models = model.named_estimators_\n",
    "            classes = model.classes_\n",
    "            # columns should be the name of the sub models\n",
    "            importance = pd.DataFrame(columns=models.keys())\n",
    "            for name, model in models.items():\n",
    "                if hasattr(model, 'predict_proba'):\n",
    "                    feature_importance = model.predict_proba(X_test).mean(axis=0)\n",
    "                else:\n",
    "                    feature_importance = model.decision_function(X_test).mean(axis=0)\n",
    "                importance[name] = feature_importance\n",
    "            return importance\n",
    "        elif hasattr(model.steps[1][1], 'coef_'):\n",
    "            feature_importance = model.steps[1][1].coef_\n",
    "        elif hasattr(model.steps[1][1], 'feature_importances_'):\n",
    "            feature_importance = model.steps[1][1].feature_importances_\n",
    "\n",
    "        # Normalize the importance to 2dp\n",
    "        try:\n",
    "            feature_importance = 100.0 * (feature_importance / feature_importance.max())\n",
    "            importance = pd.DataFrame({'importance_'+model_name: feature_importance[0]}, index=model.steps[0][1].get_feature_names())\n",
    "            importance = importance.sort_values('importance_'+model_name, ascending=False)\n",
    "            # Show the feature importance dataframe\n",
    "            print('Feature importance of {} is:'.format(model_name))\n",
    "            print(importance)\n",
    "        except:\n",
    "            print('No feature importance for {}'.format(model_name))\n",
    "    print('='*50)\n",
    "    \n",
    "    return model_name, precision, recall, f1\n",
    "\n",
    "def bulk_train(X_train=None, y_train=None, tune=True):\n",
    "    best_log = [\"LogisticRegression\",RandomizedSearchCV_function(LogisticRegression(), {'clf__C': (0.5, 1.0, 1.5),'clf__penalty': ['l2','l1'],'clf__solver': ('lbfgs','saga')}, tune=tune, X_train=X_train, y_train=y_train)]\n",
    "    best_rf = [\"RandomForestClassifier\",RandomizedSearchCV_function(RandomForestClassifier(), {'clf__n_estimators': (100, 200, 300, 400, 500),'clf__max_depth': (10, 20, 30, 40, 50, None)}, tune=tune, X_train=X_train, y_train=y_train)]\n",
    "    best_xgb = [\"XGBClassifier\",RandomizedSearchCV_function(xgb.XGBClassifier(), {'clf__n_estimators': np.arange(100,300), 'clf__learning_rate': [0.2,0.3,0.4,0.5], 'clf__n_jobs': (-1,)}, tune=tune, X_train=X_train, y_train=y_train)] \n",
    "    best_lgbm = [\"LGBMClassifier\",RandomizedSearchCV_function(LGBMClassifier(), {'clf__verbose': (-1,), 'clf__n_jobs': (-1,), 'clf__reg_alpha': np.arange(0.1,1,0.1), 'clf__reg_lambda': np.arange(0.1,1,0.1), 'clf__max_depth': (-1,), 'clf__silent': (True,)}, tune=tune, X_train=X_train, y_train=y_train)]\n",
    "\n",
    "    best_models = [best_log, best_rf, best_xgb, best_lgbm]\n",
    "    return best_models\n",
    "    "
   ]
  },
  {
   "attachments": {},
   "cell_type": "markdown",
   "metadata": {},
   "source": [
    "# All Models"
   ]
  },
  {
   "cell_type": "code",
   "execution_count": 10,
   "metadata": {},
   "outputs": [
    {
     "name": "stdout",
     "output_type": "stream",
     "text": [
      "Score: LogisticRegression: 0.8105\n",
      "Parameters: {'clf__C': 1.0, 'clf__penalty': 'l2', 'clf__solver': 'lbfgs'}\n",
      "Time taken: 1.72 seconds\n",
      "==================================================\n",
      "Score: RandomForestClassifier: 1.0\n",
      "Parameters: {'clf__max_depth': None, 'clf__n_estimators': 100}\n",
      "Time taken: 38.03 seconds\n",
      "==================================================\n",
      "Score: XGBClassifier: 0.8793333333333333\n",
      "Parameters: {'clf__learning_rate': 0.300000012, 'clf__n_estimators': 100, 'clf__n_jobs': 0}\n",
      "Time taken: 6.46 seconds\n",
      "==================================================\n",
      "Score: LGBMClassifier: 0.8675\n",
      "Parameters: {'clf__max_depth': -1, 'clf__n_jobs': -1, 'clf__reg_alpha': 0.0, 'clf__reg_lambda': 0.0, 'clf__silent': 'warn'}\n",
      "Time taken: 1.25 seconds\n",
      "==================================================\n"
     ]
    }
   ],
   "source": [
    "# Split data into train and test\n",
    "X_train, X_test, y_train, y_test = train_test_split(X, y, test_size=0.2, random_state=2023, stratify=y)\n",
    "\n",
    "# Train the models\n",
    "best_models = bulk_train(X_train, y_train, tune=False)"
   ]
  },
  {
   "cell_type": "code",
   "execution_count": 11,
   "metadata": {},
   "outputs": [
    {
     "name": "stdout",
     "output_type": "stream",
     "text": [
      "Model: LogisticRegression\n",
      "Precision score: 0.71\n",
      "Recall score: 0.61\n",
      "F1 score: 0.66\n",
      "==================================================\n",
      "Model: RandomForestClassifier\n",
      "Precision score: 0.90\n",
      "Recall score: 0.50\n",
      "F1 score: 0.64\n",
      "==================================================\n",
      "Model: XGBClassifier\n",
      "Precision score: 0.82\n",
      "Recall score: 0.58\n",
      "F1 score: 0.68\n",
      "==================================================\n",
      "Model: LGBMClassifier\n",
      "Precision score: 0.79\n",
      "Recall score: 0.65\n",
      "F1 score: 0.71\n",
      "==================================================\n"
     ]
    },
    {
     "data": {
      "text/html": [
       "<div>\n",
       "<style scoped>\n",
       "    .dataframe tbody tr th:only-of-type {\n",
       "        vertical-align: middle;\n",
       "    }\n",
       "\n",
       "    .dataframe tbody tr th {\n",
       "        vertical-align: top;\n",
       "    }\n",
       "\n",
       "    .dataframe thead th {\n",
       "        text-align: right;\n",
       "    }\n",
       "</style>\n",
       "<table border=\"1\" class=\"dataframe\">\n",
       "  <thead>\n",
       "    <tr style=\"text-align: right;\">\n",
       "      <th></th>\n",
       "      <th>Model</th>\n",
       "      <th>Precision</th>\n",
       "      <th>Recall</th>\n",
       "      <th>F1</th>\n",
       "    </tr>\n",
       "  </thead>\n",
       "  <tbody>\n",
       "    <tr>\n",
       "      <th>3</th>\n",
       "      <td>LGBMClassifier</td>\n",
       "      <td>0.792308</td>\n",
       "      <td>0.645768</td>\n",
       "      <td>0.711572</td>\n",
       "    </tr>\n",
       "    <tr>\n",
       "      <th>2</th>\n",
       "      <td>XGBClassifier</td>\n",
       "      <td>0.820000</td>\n",
       "      <td>0.578370</td>\n",
       "      <td>0.678309</td>\n",
       "    </tr>\n",
       "    <tr>\n",
       "      <th>0</th>\n",
       "      <td>LogisticRegression</td>\n",
       "      <td>0.707052</td>\n",
       "      <td>0.612853</td>\n",
       "      <td>0.656591</td>\n",
       "    </tr>\n",
       "    <tr>\n",
       "      <th>1</th>\n",
       "      <td>RandomForestClassifier</td>\n",
       "      <td>0.900568</td>\n",
       "      <td>0.496865</td>\n",
       "      <td>0.640404</td>\n",
       "    </tr>\n",
       "  </tbody>\n",
       "</table>\n",
       "</div>"
      ],
      "text/plain": [
       "                    Model  Precision    Recall        F1\n",
       "3          LGBMClassifier   0.792308  0.645768  0.711572\n",
       "2           XGBClassifier   0.820000  0.578370  0.678309\n",
       "0      LogisticRegression   0.707052  0.612853  0.656591\n",
       "1  RandomForestClassifier   0.900568  0.496865  0.640404"
      ]
     },
     "execution_count": 11,
     "metadata": {},
     "output_type": "execute_result"
    }
   ],
   "source": [
    "# Create a dataframe to show the performance of the models\n",
    "performance = [show_performance(*model, mode='lite', X_test=X_test, y_test=y_test) for model in best_models]\n",
    "df_performance = pd.DataFrame(performance, columns=['Model', 'Precision', 'Recall', 'F1'])\n",
    "df_performance.sort_values('F1', ascending=False)"
   ]
  },
  {
   "attachments": {},
   "cell_type": "markdown",
   "metadata": {},
   "source": [
    "Now we try to tune the models to see if we can get better results."
   ]
  },
  {
   "cell_type": "code",
   "execution_count": 12,
   "metadata": {},
   "outputs": [
    {
     "name": "stdout",
     "output_type": "stream",
     "text": [
      "Best score for LogisticRegression: 0.5696103896103896\n",
      "Best parameters: {'clf__solver': 'lbfgs', 'clf__penalty': 'l2', 'clf__C': 1.0}\n",
      "Time taken: 5.51 seconds\n",
      "==================================================\n",
      "Best score for RandomForestClassifier: 0.4305231050092038\n",
      "Best parameters: {'clf__n_estimators': 500, 'clf__max_depth': None}\n",
      "Time taken: 257.34 seconds\n",
      "==================================================\n",
      "Best score for XGBClassifier: 0.664278492651013\n",
      "Best parameters: {'clf__n_jobs': -1, 'clf__n_estimators': 236, 'clf__learning_rate': 0.4}\n",
      "Time taken: 206.61 seconds\n",
      "==================================================\n",
      "Best score for LGBMClassifier: 0.555865283650552\n",
      "Best parameters: {'clf__verbose': -1, 'clf__silent': True, 'clf__reg_lambda': 0.1, 'clf__reg_alpha': 0.30000000000000004, 'clf__n_jobs': -1, 'clf__max_depth': -1}\n",
      "Time taken: 9.37 seconds\n",
      "==================================================\n"
     ]
    }
   ],
   "source": [
    "# Split data into train and test\n",
    "X_train, X_test, y_train, y_test = train_test_split(X, y, test_size=0.2, random_state=2023, stratify=df['keyword'])\n",
    "\n",
    "# Train the models\n",
    "best_models = bulk_train(X_train, y_train)"
   ]
  },
  {
   "cell_type": "code",
   "execution_count": 13,
   "metadata": {},
   "outputs": [
    {
     "name": "stdout",
     "output_type": "stream",
     "text": [
      "Model: LogisticRegression\n",
      "Precision score: 0.67\n",
      "Recall score: 0.61\n",
      "F1 score: 0.64\n",
      "==================================================\n",
      "Model: RandomForestClassifier\n",
      "Precision score: 0.92\n",
      "Recall score: 0.50\n",
      "F1 score: 0.64\n",
      "==================================================\n",
      "Model: XGBClassifier\n",
      "Precision score: 0.83\n",
      "Recall score: 0.62\n",
      "F1 score: 0.71\n",
      "==================================================\n",
      "Model: LGBMClassifier\n",
      "Precision score: 0.81\n",
      "Recall score: 0.66\n",
      "F1 score: 0.73\n",
      "==================================================\n"
     ]
    },
    {
     "data": {
      "text/html": [
       "<div>\n",
       "<style scoped>\n",
       "    .dataframe tbody tr th:only-of-type {\n",
       "        vertical-align: middle;\n",
       "    }\n",
       "\n",
       "    .dataframe tbody tr th {\n",
       "        vertical-align: top;\n",
       "    }\n",
       "\n",
       "    .dataframe thead th {\n",
       "        text-align: right;\n",
       "    }\n",
       "</style>\n",
       "<table border=\"1\" class=\"dataframe\">\n",
       "  <thead>\n",
       "    <tr style=\"text-align: right;\">\n",
       "      <th></th>\n",
       "      <th>Model</th>\n",
       "      <th>Precision</th>\n",
       "      <th>Recall</th>\n",
       "      <th>F1</th>\n",
       "    </tr>\n",
       "  </thead>\n",
       "  <tbody>\n",
       "    <tr>\n",
       "      <th>3</th>\n",
       "      <td>LGBMClassifier</td>\n",
       "      <td>0.811676</td>\n",
       "      <td>0.663077</td>\n",
       "      <td>0.729890</td>\n",
       "    </tr>\n",
       "    <tr>\n",
       "      <th>2</th>\n",
       "      <td>XGBClassifier</td>\n",
       "      <td>0.830928</td>\n",
       "      <td>0.620000</td>\n",
       "      <td>0.710132</td>\n",
       "    </tr>\n",
       "    <tr>\n",
       "      <th>1</th>\n",
       "      <td>RandomForestClassifier</td>\n",
       "      <td>0.915014</td>\n",
       "      <td>0.496923</td>\n",
       "      <td>0.644068</td>\n",
       "    </tr>\n",
       "    <tr>\n",
       "      <th>0</th>\n",
       "      <td>LogisticRegression</td>\n",
       "      <td>0.670068</td>\n",
       "      <td>0.606154</td>\n",
       "      <td>0.636511</td>\n",
       "    </tr>\n",
       "  </tbody>\n",
       "</table>\n",
       "</div>"
      ],
      "text/plain": [
       "                    Model  Precision    Recall        F1\n",
       "3          LGBMClassifier   0.811676  0.663077  0.729890\n",
       "2           XGBClassifier   0.830928  0.620000  0.710132\n",
       "1  RandomForestClassifier   0.915014  0.496923  0.644068\n",
       "0      LogisticRegression   0.670068  0.606154  0.636511"
      ]
     },
     "execution_count": 13,
     "metadata": {},
     "output_type": "execute_result"
    }
   ],
   "source": [
    "# Create a dataframe to show the performance of the models\n",
    "performance = [show_performance(*model, mode='lite', X_test=X_test, y_test=y_test) for model in best_models]\n",
    "df_performance = pd.DataFrame(performance, columns=['Model', 'Precision', 'Recall', 'F1'])\n",
    "df_performance.sort_values('F1', ascending=False)"
   ]
  },
  {
   "attachments": {},
   "cell_type": "markdown",
   "metadata": {},
   "source": [
    "# Simple Stacking Classifier"
   ]
  },
  {
   "cell_type": "code",
   "execution_count": 14,
   "metadata": {},
   "outputs": [],
   "source": [
    "def stacking(df, best_models, threshold=0.6, X_test=None, y_test=None):\n",
    "    # Create a stacking classifier\n",
    "    stack = StackingClassifier(estimators=[best_models[i] for i in df[df['F1'] >= threshold].index], n_jobs=-1, passthrough=False, verbose=1)\n",
    "    stack.fit(X_train, y_train)\n",
    "\n",
    "    # Show the performance of the stacking classifier\n",
    "    imp_stack = show_performance('StackingClassifier', stack, mode='full', X_test=X_test, y_test=y_test)\n",
    "\n",
    "    # Transpose the importance of each model\n",
    "    imp_minmax = imp_stack.T.reset_index()\n",
    "    imp_minmax.columns = ['Model', 'Importance']\n",
    "\n",
    "    # Convert the importance to percentage\n",
    "    imp_minmax['Importance'] = imp_minmax['Importance'] / imp_minmax['Importance'].sum() * 100\n",
    "    imp_minmax['Importance'] = imp_minmax['Importance'].round(2).astype(str) + '%'\n",
    "    print(imp_minmax.sort_values('Importance', ascending=False))\n",
    "    \n",
    "    return stack, imp_minmax"
   ]
  },
  {
   "cell_type": "code",
   "execution_count": 15,
   "metadata": {},
   "outputs": [
    {
     "name": "stdout",
     "output_type": "stream",
     "text": [
      "Model: StackingClassifier\n",
      "Precision score: 0.82\n",
      "Recall score: 0.65\n",
      "F1 score: 0.73\n",
      "Classification report of StackingClassifier is:\n",
      "              precision    recall  f1-score   support\n",
      "\n",
      "           0       0.77      0.89      0.83       851\n",
      "           1       0.82      0.65      0.73       650\n",
      "\n",
      "    accuracy                           0.79      1501\n",
      "   macro avg       0.79      0.77      0.78      1501\n",
      "weighted avg       0.79      0.79      0.78      1501\n",
      "\n"
     ]
    },
    {
     "data": {
      "image/png": "[encoded data removed]",
      "text/plain": [
       "<Figure size 720x720 with 2 Axes>"
      ]
     },
     "metadata": {
      "needs_background": "light"
     },
     "output_type": "display_data"
    },
    {
     "name": "stdout",
     "output_type": "stream",
     "text": [
      "ROC AUC score: 0.86\n",
      "                    Model Importance\n",
      "1  RandomForestClassifier     66.29%\n",
      "0      LogisticRegression      4.58%\n",
      "2           XGBClassifier     14.63%\n",
      "3          LGBMClassifier      14.5%\n"
     ]
    }
   ],
   "source": [
    "stack, imp_minmax = stacking(df_performance, best_models, X_test=X_test, y_test=y_test)"
   ]
  },
  {
   "attachments": {},
   "cell_type": "markdown",
   "metadata": {},
   "source": [
    "# Voting Classifier"
   ]
  },
  {
   "cell_type": "code",
   "execution_count": 16,
   "metadata": {},
   "outputs": [],
   "source": [
    "def voting(df, best_models, threshold=0.6, X_test=None, y_test=None):\n",
    "    # Create a Soft Voting Classifier\n",
    "    vote = VotingClassifier(estimators=[best_models[i] for i in df[df['F1'] >= threshold].index], n_jobs=-1, verbose=1, voting='soft')\n",
    "    vote.fit(X_train, y_train)\n",
    "\n",
    "    # Show the performance of the voting classifier\n",
    "    imp_vote = show_performance('VotingClassifier', vote, mode='full', X_test=X_test, y_test=y_test)\n",
    "    imp_vote = imp_vote.round(2)\n",
    "    \n",
    "    # Transpose the importance of each model\n",
    "    imp_minmax = imp_vote.T.reset_index()\n",
    "    imp_minmax.columns = ['Model', 'Negative Weight', 'Positive Weight']\n",
    "    print(imp_minmax.sort_values('Positive Weight', ascending=False))\n",
    "\n",
    "    return vote, imp_vote"
   ]
  },
  {
   "cell_type": "code",
   "execution_count": 17,
   "metadata": {},
   "outputs": [
    {
     "name": "stdout",
     "output_type": "stream",
     "text": [
      "Model: VotingClassifier\n",
      "Precision score: 0.86\n",
      "Recall score: 0.62\n",
      "F1 score: 0.72\n",
      "Classification report of VotingClassifier is:\n",
      "              precision    recall  f1-score   support\n",
      "\n",
      "           0       0.76      0.93      0.83       851\n",
      "           1       0.86      0.62      0.72       650\n",
      "\n",
      "    accuracy                           0.79      1501\n",
      "   macro avg       0.81      0.77      0.78      1501\n",
      "weighted avg       0.80      0.79      0.78      1501\n",
      "\n"
     ]
    },
    {
     "data": {
      "image/png": "[encoded data removed]",
      "text/plain": [
       "<Figure size 720x720 with 2 Axes>"
      ]
     },
     "metadata": {
      "needs_background": "light"
     },
     "output_type": "display_data"
    },
    {
     "name": "stdout",
     "output_type": "stream",
     "text": [
      "ROC AUC score: 0.86\n",
      "                    Model  Negative Weight  Positive Weight\n",
      "0      LogisticRegression             0.55             0.45\n",
      "3          LGBMClassifier             0.58             0.42\n",
      "2           XGBClassifier             0.60             0.40\n",
      "1  RandomForestClassifier             0.67             0.33\n"
     ]
    }
   ],
   "source": [
    "vote, imp_vote = voting(df_performance, best_models, X_test=X_test, y_test=y_test)"
   ]
  }
 ],
 "metadata": {
  "kernelspec": {
   "display_name": "Python 3",
   "language": "python",
   "name": "python3"
  },
  "language_info": {
   "codemirror_mode": {
    "name": "ipython",
    "version": 3
   },
   "file_extension": ".py",
   "mimetype": "text/x-python",
   "name": "python",
   "nbconvert_exporter": "python",
   "pygments_lexer": "ipython3",
   "version": "3.9.1"
  },
  "orig_nbformat": 4,
  "vscode": {
   "interpreter": {
    "hash": "81794d4967e6c3204c66dcd87b604927b115b27c00565d3d43f05ba2f3a2cb0d"
   }
  }
 },
 "nbformat": 4,
 "nbformat_minor": 2
}
