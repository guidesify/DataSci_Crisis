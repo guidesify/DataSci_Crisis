{
 "cells": [
  {
   "cell_type": "code",
   "execution_count": 2,
   "metadata": {},
   "outputs": [],
   "source": [
    "import snscrape.modules.twitter as sntwitter\n",
    "import pandas as pd\n",
    "import subprocess"
   ]
  },
  {
   "cell_type": "code",
   "execution_count": 3,
   "metadata": {},
   "outputs": [
    {
     "name": "stdout",
     "output_type": "stream",
     "text": [
      "b''\n"
     ]
    }
   ],
   "source": [
    "# Goal is to scrape any tweet from a certain time period\n",
    "language = 'en'\n",
    "location = 'Turkey'\n",
    "# search = 'earthquake'\n",
    "\n",
    "# The Earthquake happened on 6 Feb 4.17 AM local time, UTC will be 3 hours behind\n",
    "start_time = '2023-02-05'\n",
    "end_time = '2023-02-08'\n",
    "\n",
    "# Scrape tweets and save them to a json file\n",
    "command = \"snscrape --jsonl --max-results 10000 twitter-search \\\"lang:{} near:{} within:300km since:{} until:{}\\\" > tweets.json\".format(language, location, start_time, end_time)\n",
    "result = subprocess.run(command, shell=True, capture_output=True)\n",
    "print(result.stdout)\n"
   ]
  }
 ],
 "metadata": {
  "kernelspec": {
   "display_name": "Python 3",
   "language": "python",
   "name": "python3"
  },
  "language_info": {
   "codemirror_mode": {
    "name": "ipython",
    "version": 3
   },
   "file_extension": ".py",
   "mimetype": "text/x-python",
   "name": "python",
   "nbconvert_exporter": "python",
   "pygments_lexer": "ipython3",
   "version": "3.11.0"
  },
  "orig_nbformat": 4
 },
 "nbformat": 4,
 "nbformat_minor": 2
}
