{
 "cells": [
  {
   "cell_type": "code",
   "execution_count": 15,
   "metadata": {},
   "outputs": [
    {
     "name": "stderr",
     "output_type": "stream",
     "text": [
      "[nltk_data] Downloading package wordnet to\n",
      "[nltk_data]     C:\\Users\\YongLe\\AppData\\Roaming\\nltk_data...\n",
      "[nltk_data]   Package wordnet is already up-to-date!\n",
      "[nltk_data] Downloading package omw-1.4 to\n",
      "[nltk_data]     C:\\Users\\YongLe\\AppData\\Roaming\\nltk_data...\n",
      "[nltk_data]   Package omw-1.4 is already up-to-date!\n"
     ]
    },
    {
     "data": {
      "text/plain": [
       "True"
      ]
     },
     "execution_count": 15,
     "metadata": {},
     "output_type": "execute_result"
    }
   ],
   "source": [
    "import re\n",
    "import pickle\n",
    "import string\n",
    "import pandas as pd\n",
    "pd.set_option('display.max_colwidth', None)\n",
    "import numpy as np\n",
    "import seaborn as sns\n",
    "import matplotlib.pyplot as plt\n",
    "import nltk \n",
    "nltk.download('wordnet')\n",
    "nltk.download('omw-1.4')"
   ]
  },
  {
   "cell_type": "code",
   "execution_count": 2,
   "metadata": {},
   "outputs": [],
   "source": [
    "# Only for submission to Kaggle to see scores\n",
    "# df = pd.read_csv('test.csv')\n",
    "# df = df[['id', 'text']]\n",
    "# STOPWORDS = set(nltk.corpus.stopwords.words('english'))\n",
    "# df['word_count'] = df['text'].apply(lambda x: len(str(x).split()))\n",
    "# df['unique_word_count'] = df['text'].apply(lambda x: len(set(str(x).split())))\n",
    "# df['stop_word_count'] = df['text'].apply(lambda x: len([w for w in str(x).lower().split() if w in STOPWORDS]))\n",
    "# df['mean_word_length'] = df['text'].apply(lambda x: np.mean([len(w) for w in str(x).split()]))\n",
    "# df['char_count'] = df['text'].apply(lambda x: len(str(x)))\n",
    "# df['punctuation_count'] = df['text'].apply(lambda x: len([c for c in str(x) if c in string.punctuation]))\n",
    "# df['url_count'] = df['text'].apply(lambda x: len([w for w in str(x).lower().split() if 'http' in w or 'https' in w]))\n",
    "# df['hashtag_count'] = df['text'].apply(lambda x: len([c for c in str(x) if c == '#']))\n",
    "# df['mention_count'] = df['text'].apply(lambda x: len([c for c in str(x) if c == '@']))\n",
    "\n",
    "# # Do a brief cleaning of the data\n",
    "# df['text'] = [re.sub('\\s+', ' ', x) for x in df['text']] # This removes all extra spaces\n",
    "# df['text'] = [x.lower() for x in df['text']] # lowercase \n",
    "\n",
    "# # Combine correlated features\n",
    "# df['word_unique_ratio'] = df['unique_word_count'] / df['word_count']\n",
    "# df.drop(['word_count', 'unique_word_count'], axis=1, inplace=True)\n",
    "\n",
    "# # Load the model stacking_model.sav\n",
    "# model = pickle.load(open('stacking_model_2.sav', 'rb'))\n",
    "\n",
    "# # Make predictions\n",
    "# predictions = model.predict(df)\n",
    "\n",
    "# # Save the predictions to a csv file\n",
    "# df = pd.DataFrame({'id': df['id'], 'target': predictions})\n",
    "# df.to_csv('submission_2.csv', index=False) # Retrained model is 0.1 weaker than the first one"
   ]
  },
  {
   "cell_type": "code",
   "execution_count": 3,
   "metadata": {},
   "outputs": [
    {
     "data": {
      "text/html": [
       "<div>\n",
       "<style scoped>\n",
       "    .dataframe tbody tr th:only-of-type {\n",
       "        vertical-align: middle;\n",
       "    }\n",
       "\n",
       "    .dataframe tbody tr th {\n",
       "        vertical-align: top;\n",
       "    }\n",
       "\n",
       "    .dataframe thead th {\n",
       "        text-align: right;\n",
       "    }\n",
       "</style>\n",
       "<table border=\"1\" class=\"dataframe\">\n",
       "  <thead>\n",
       "    <tr style=\"text-align: right;\">\n",
       "      <th></th>\n",
       "      <th>_type</th>\n",
       "      <th>url</th>\n",
       "      <th>date</th>\n",
       "      <th>rawContent</th>\n",
       "      <th>renderedContent</th>\n",
       "      <th>id</th>\n",
       "      <th>user</th>\n",
       "      <th>replyCount</th>\n",
       "      <th>retweetCount</th>\n",
       "      <th>likeCount</th>\n",
       "      <th>...</th>\n",
       "      <th>cashtags</th>\n",
       "      <th>card</th>\n",
       "      <th>viewCount</th>\n",
       "      <th>vibe</th>\n",
       "      <th>content</th>\n",
       "      <th>outlinks</th>\n",
       "      <th>outlinksss</th>\n",
       "      <th>tcooutlinks</th>\n",
       "      <th>tcooutlinksss</th>\n",
       "      <th>username</th>\n",
       "    </tr>\n",
       "  </thead>\n",
       "  <tbody>\n",
       "    <tr>\n",
       "      <th>0</th>\n",
       "      <td>snscrape.modules.twitter.Tweet</td>\n",
       "      <td>https://twitter.com/JtrOmar/status/16231076774...</td>\n",
       "      <td>2023-02-07 23:53:20+00:00</td>\n",
       "      <td>No tientes! https://t.co/UD3YSYis3j</td>\n",
       "      <td>No tientes! https://t.co/UD3YSYis3j</td>\n",
       "      <td>1623107677483159552</td>\n",
       "      <td>{'_type': 'snscrape.modules.twitter.User', 'us...</td>\n",
       "      <td>0</td>\n",
       "      <td>0</td>\n",
       "      <td>0</td>\n",
       "      <td>...</td>\n",
       "      <td>NaN</td>\n",
       "      <td>None</td>\n",
       "      <td>7.0</td>\n",
       "      <td>NaN</td>\n",
       "      <td>No tientes! https://t.co/UD3YSYis3j</td>\n",
       "      <td>[]</td>\n",
       "      <td></td>\n",
       "      <td>[]</td>\n",
       "      <td></td>\n",
       "      <td>JtrOmar</td>\n",
       "    </tr>\n",
       "    <tr>\n",
       "      <th>1</th>\n",
       "      <td>snscrape.modules.twitter.Tweet</td>\n",
       "      <td>https://twitter.com/LastQuake/status/162310355...</td>\n",
       "      <td>2023-02-07 23:36:57+00:00</td>\n",
       "      <td>‼ No further info about this #earthquake will ...</td>\n",
       "      <td>‼ No further info about this #earthquake will ...</td>\n",
       "      <td>1623103555031769089</td>\n",
       "      <td>{'_type': 'snscrape.modules.twitter.User', 'us...</td>\n",
       "      <td>0</td>\n",
       "      <td>0</td>\n",
       "      <td>1</td>\n",
       "      <td>...</td>\n",
       "      <td>NaN</td>\n",
       "      <td>{'_type': 'snscrape.modules.twitter.SummaryCar...</td>\n",
       "      <td>3713.0</td>\n",
       "      <td>NaN</td>\n",
       "      <td>‼ No further info about this #earthquake will ...</td>\n",
       "      <td>[https://www.emsc-csem.org/service/application...</td>\n",
       "      <td>https://www.emsc-csem.org/service/application/...</td>\n",
       "      <td>[https://t.co/LBaVNedgF9, https://t.co/z6tAk3S...</td>\n",
       "      <td>https://t.co/LBaVNedgF9 https://t.co/z6tAk3SAC...</td>\n",
       "      <td>LastQuake</td>\n",
       "    </tr>\n",
       "    <tr>\n",
       "      <th>2</th>\n",
       "      <td>snscrape.modules.twitter.Tweet</td>\n",
       "      <td>https://twitter.com/biket_a/status/16231014105...</td>\n",
       "      <td>2023-02-07 23:28:26+00:00</td>\n",
       "      <td>@luz_marcha Good night 🙏❤️</td>\n",
       "      <td>@luz_marcha Good night 🙏❤️</td>\n",
       "      <td>1623101410559643649</td>\n",
       "      <td>{'_type': 'snscrape.modules.twitter.User', 'us...</td>\n",
       "      <td>0</td>\n",
       "      <td>0</td>\n",
       "      <td>0</td>\n",
       "      <td>...</td>\n",
       "      <td>NaN</td>\n",
       "      <td>None</td>\n",
       "      <td>9.0</td>\n",
       "      <td>NaN</td>\n",
       "      <td>@luz_marcha Good night 🙏❤️</td>\n",
       "      <td>[]</td>\n",
       "      <td></td>\n",
       "      <td>[]</td>\n",
       "      <td></td>\n",
       "      <td>biket_a</td>\n",
       "    </tr>\n",
       "    <tr>\n",
       "      <th>3</th>\n",
       "      <td>snscrape.modules.twitter.Tweet</td>\n",
       "      <td>https://twitter.com/biket_a/status/16231013208...</td>\n",
       "      <td>2023-02-07 23:28:05+00:00</td>\n",
       "      <td>@ChrisHowley6 Clever girl 😂</td>\n",
       "      <td>@ChrisHowley6 Clever girl 😂</td>\n",
       "      <td>1623101320864342016</td>\n",
       "      <td>{'_type': 'snscrape.modules.twitter.User', 'us...</td>\n",
       "      <td>1</td>\n",
       "      <td>0</td>\n",
       "      <td>1</td>\n",
       "      <td>...</td>\n",
       "      <td>NaN</td>\n",
       "      <td>None</td>\n",
       "      <td>17.0</td>\n",
       "      <td>NaN</td>\n",
       "      <td>@ChrisHowley6 Clever girl 😂</td>\n",
       "      <td>[]</td>\n",
       "      <td></td>\n",
       "      <td>[]</td>\n",
       "      <td></td>\n",
       "      <td>biket_a</td>\n",
       "    </tr>\n",
       "    <tr>\n",
       "      <th>4</th>\n",
       "      <td>snscrape.modules.twitter.Tweet</td>\n",
       "      <td>https://twitter.com/biket_a/status/16231010354...</td>\n",
       "      <td>2023-02-07 23:26:57+00:00</td>\n",
       "      <td>@FlirtyFlightB2 Beautiful,,😘</td>\n",
       "      <td>@FlirtyFlightB2 Beautiful,,😘</td>\n",
       "      <td>1623101035496501251</td>\n",
       "      <td>{'_type': 'snscrape.modules.twitter.User', 'us...</td>\n",
       "      <td>0</td>\n",
       "      <td>0</td>\n",
       "      <td>2</td>\n",
       "      <td>...</td>\n",
       "      <td>NaN</td>\n",
       "      <td>None</td>\n",
       "      <td>19.0</td>\n",
       "      <td>NaN</td>\n",
       "      <td>@FlirtyFlightB2 Beautiful,,😘</td>\n",
       "      <td>[]</td>\n",
       "      <td></td>\n",
       "      <td>[]</td>\n",
       "      <td></td>\n",
       "      <td>biket_a</td>\n",
       "    </tr>\n",
       "  </tbody>\n",
       "</table>\n",
       "<p>5 rows × 36 columns</p>\n",
       "</div>"
      ],
      "text/plain": [
       "                            _type  \\\n",
       "0  snscrape.modules.twitter.Tweet   \n",
       "1  snscrape.modules.twitter.Tweet   \n",
       "2  snscrape.modules.twitter.Tweet   \n",
       "3  snscrape.modules.twitter.Tweet   \n",
       "4  snscrape.modules.twitter.Tweet   \n",
       "\n",
       "                                                 url  \\\n",
       "0  https://twitter.com/JtrOmar/status/16231076774...   \n",
       "1  https://twitter.com/LastQuake/status/162310355...   \n",
       "2  https://twitter.com/biket_a/status/16231014105...   \n",
       "3  https://twitter.com/biket_a/status/16231013208...   \n",
       "4  https://twitter.com/biket_a/status/16231010354...   \n",
       "\n",
       "                       date  \\\n",
       "0 2023-02-07 23:53:20+00:00   \n",
       "1 2023-02-07 23:36:57+00:00   \n",
       "2 2023-02-07 23:28:26+00:00   \n",
       "3 2023-02-07 23:28:05+00:00   \n",
       "4 2023-02-07 23:26:57+00:00   \n",
       "\n",
       "                                          rawContent  \\\n",
       "0                No tientes! https://t.co/UD3YSYis3j   \n",
       "1  ‼ No further info about this #earthquake will ...   \n",
       "2                         @luz_marcha Good night 🙏❤️   \n",
       "3                        @ChrisHowley6 Clever girl 😂   \n",
       "4                       @FlirtyFlightB2 Beautiful,,😘   \n",
       "\n",
       "                                     renderedContent                   id  \\\n",
       "0                No tientes! https://t.co/UD3YSYis3j  1623107677483159552   \n",
       "1  ‼ No further info about this #earthquake will ...  1623103555031769089   \n",
       "2                         @luz_marcha Good night 🙏❤️  1623101410559643649   \n",
       "3                        @ChrisHowley6 Clever girl 😂  1623101320864342016   \n",
       "4                       @FlirtyFlightB2 Beautiful,,😘  1623101035496501251   \n",
       "\n",
       "                                                user  replyCount  \\\n",
       "0  {'_type': 'snscrape.modules.twitter.User', 'us...           0   \n",
       "1  {'_type': 'snscrape.modules.twitter.User', 'us...           0   \n",
       "2  {'_type': 'snscrape.modules.twitter.User', 'us...           0   \n",
       "3  {'_type': 'snscrape.modules.twitter.User', 'us...           1   \n",
       "4  {'_type': 'snscrape.modules.twitter.User', 'us...           0   \n",
       "\n",
       "   retweetCount  likeCount  ...  cashtags  \\\n",
       "0             0          0  ...       NaN   \n",
       "1             0          1  ...       NaN   \n",
       "2             0          0  ...       NaN   \n",
       "3             0          1  ...       NaN   \n",
       "4             0          2  ...       NaN   \n",
       "\n",
       "                                                card viewCount vibe  \\\n",
       "0                                               None       7.0  NaN   \n",
       "1  {'_type': 'snscrape.modules.twitter.SummaryCar...    3713.0  NaN   \n",
       "2                                               None       9.0  NaN   \n",
       "3                                               None      17.0  NaN   \n",
       "4                                               None      19.0  NaN   \n",
       "\n",
       "                                             content  \\\n",
       "0                No tientes! https://t.co/UD3YSYis3j   \n",
       "1  ‼ No further info about this #earthquake will ...   \n",
       "2                         @luz_marcha Good night 🙏❤️   \n",
       "3                        @ChrisHowley6 Clever girl 😂   \n",
       "4                       @FlirtyFlightB2 Beautiful,,😘   \n",
       "\n",
       "                                            outlinks  \\\n",
       "0                                                 []   \n",
       "1  [https://www.emsc-csem.org/service/application...   \n",
       "2                                                 []   \n",
       "3                                                 []   \n",
       "4                                                 []   \n",
       "\n",
       "                                          outlinksss  \\\n",
       "0                                                      \n",
       "1  https://www.emsc-csem.org/service/application/...   \n",
       "2                                                      \n",
       "3                                                      \n",
       "4                                                      \n",
       "\n",
       "                                         tcooutlinks  \\\n",
       "0                                                 []   \n",
       "1  [https://t.co/LBaVNedgF9, https://t.co/z6tAk3S...   \n",
       "2                                                 []   \n",
       "3                                                 []   \n",
       "4                                                 []   \n",
       "\n",
       "                                       tcooutlinksss   username  \n",
       "0                                                       JtrOmar  \n",
       "1  https://t.co/LBaVNedgF9 https://t.co/z6tAk3SAC...  LastQuake  \n",
       "2                                                       biket_a  \n",
       "3                                                       biket_a  \n",
       "4                                                       biket_a  \n",
       "\n",
       "[5 rows x 36 columns]"
      ]
     },
     "execution_count": 3,
     "metadata": {},
     "output_type": "execute_result"
    }
   ],
   "source": [
    "# Load the data from tweets.json\n",
    "df = pd.read_json('tweets.json', lines=True)\n",
    "\n",
    "# Print the first 5 rows of data\n",
    "df.head()"
   ]
  },
  {
   "cell_type": "code",
   "execution_count": 4,
   "metadata": {},
   "outputs": [
    {
     "data": {
      "text/html": [
       "<div>\n",
       "<style scoped>\n",
       "    .dataframe tbody tr th:only-of-type {\n",
       "        vertical-align: middle;\n",
       "    }\n",
       "\n",
       "    .dataframe tbody tr th {\n",
       "        vertical-align: top;\n",
       "    }\n",
       "\n",
       "    .dataframe thead th {\n",
       "        text-align: right;\n",
       "    }\n",
       "</style>\n",
       "<table border=\"1\" class=\"dataframe\">\n",
       "  <thead>\n",
       "    <tr style=\"text-align: right;\">\n",
       "      <th></th>\n",
       "      <th>date</th>\n",
       "      <th>text</th>\n",
       "    </tr>\n",
       "  </thead>\n",
       "  <tbody>\n",
       "    <tr>\n",
       "      <th>0</th>\n",
       "      <td>2023-02-07 23:53:20+00:00</td>\n",
       "      <td>No tientes! https://t.co/UD3YSYis3j</td>\n",
       "    </tr>\n",
       "    <tr>\n",
       "      <th>1</th>\n",
       "      <td>2023-02-07 23:36:57+00:00</td>\n",
       "      <td>‼ No further info about this #earthquake will ...</td>\n",
       "    </tr>\n",
       "    <tr>\n",
       "      <th>2</th>\n",
       "      <td>2023-02-07 23:28:26+00:00</td>\n",
       "      <td>@luz_marcha Good night 🙏❤️</td>\n",
       "    </tr>\n",
       "    <tr>\n",
       "      <th>3</th>\n",
       "      <td>2023-02-07 23:28:05+00:00</td>\n",
       "      <td>@ChrisHowley6 Clever girl 😂</td>\n",
       "    </tr>\n",
       "    <tr>\n",
       "      <th>4</th>\n",
       "      <td>2023-02-07 23:26:57+00:00</td>\n",
       "      <td>@FlirtyFlightB2 Beautiful,,😘</td>\n",
       "    </tr>\n",
       "  </tbody>\n",
       "</table>\n",
       "</div>"
      ],
      "text/plain": [
       "                       date                                               text\n",
       "0 2023-02-07 23:53:20+00:00                No tientes! https://t.co/UD3YSYis3j\n",
       "1 2023-02-07 23:36:57+00:00  ‼ No further info about this #earthquake will ...\n",
       "2 2023-02-07 23:28:26+00:00                         @luz_marcha Good night 🙏❤️\n",
       "3 2023-02-07 23:28:05+00:00                        @ChrisHowley6 Clever girl 😂\n",
       "4 2023-02-07 23:26:57+00:00                       @FlirtyFlightB2 Beautiful,,😘"
      ]
     },
     "execution_count": 4,
     "metadata": {},
     "output_type": "execute_result"
    }
   ],
   "source": [
    "# Keep only date and renderedContent columns\n",
    "df = df[['date', 'renderedContent']]\n",
    "df.columns = ['date', 'text']\n",
    "df.head()"
   ]
  },
  {
   "cell_type": "code",
   "execution_count": 5,
   "metadata": {},
   "outputs": [
    {
     "data": {
      "text/html": [
       "<div>\n",
       "<style scoped>\n",
       "    .dataframe tbody tr th:only-of-type {\n",
       "        vertical-align: middle;\n",
       "    }\n",
       "\n",
       "    .dataframe tbody tr th {\n",
       "        vertical-align: top;\n",
       "    }\n",
       "\n",
       "    .dataframe thead th {\n",
       "        text-align: right;\n",
       "    }\n",
       "</style>\n",
       "<table border=\"1\" class=\"dataframe\">\n",
       "  <thead>\n",
       "    <tr style=\"text-align: right;\">\n",
       "      <th></th>\n",
       "      <th>date</th>\n",
       "      <th>text</th>\n",
       "      <th>stop_word_count</th>\n",
       "      <th>mean_word_length</th>\n",
       "      <th>char_count</th>\n",
       "      <th>punctuation_count</th>\n",
       "      <th>word_unique_ratio</th>\n",
       "    </tr>\n",
       "  </thead>\n",
       "  <tbody>\n",
       "    <tr>\n",
       "      <th>0</th>\n",
       "      <td>2023-02-07 23:53:20+00:00</td>\n",
       "      <td>no tientes! https://t.co/ud3ysyis3j</td>\n",
       "      <td>1</td>\n",
       "      <td>11.000000</td>\n",
       "      <td>35</td>\n",
       "      <td>6</td>\n",
       "      <td>1.0</td>\n",
       "    </tr>\n",
       "    <tr>\n",
       "      <th>1</th>\n",
       "      <td>2023-02-07 23:36:57+00:00</td>\n",
       "      <td>‼ no further info about this #earthquake will ...</td>\n",
       "      <td>7</td>\n",
       "      <td>8.647059</td>\n",
       "      <td>163</td>\n",
       "      <td>16</td>\n",
       "      <td>1.0</td>\n",
       "    </tr>\n",
       "    <tr>\n",
       "      <th>2</th>\n",
       "      <td>2023-02-07 23:28:26+00:00</td>\n",
       "      <td>@luz_marcha good night 🙏❤️</td>\n",
       "      <td>0</td>\n",
       "      <td>5.750000</td>\n",
       "      <td>26</td>\n",
       "      <td>2</td>\n",
       "      <td>1.0</td>\n",
       "    </tr>\n",
       "    <tr>\n",
       "      <th>3</th>\n",
       "      <td>2023-02-07 23:28:05+00:00</td>\n",
       "      <td>@chrishowley6 clever girl 😂</td>\n",
       "      <td>0</td>\n",
       "      <td>6.000000</td>\n",
       "      <td>27</td>\n",
       "      <td>1</td>\n",
       "      <td>1.0</td>\n",
       "    </tr>\n",
       "    <tr>\n",
       "      <th>4</th>\n",
       "      <td>2023-02-07 23:26:57+00:00</td>\n",
       "      <td>@flirtyflightb2 beautiful,,😘</td>\n",
       "      <td>0</td>\n",
       "      <td>13.500000</td>\n",
       "      <td>28</td>\n",
       "      <td>3</td>\n",
       "      <td>1.0</td>\n",
       "    </tr>\n",
       "  </tbody>\n",
       "</table>\n",
       "</div>"
      ],
      "text/plain": [
       "                       date  \\\n",
       "0 2023-02-07 23:53:20+00:00   \n",
       "1 2023-02-07 23:36:57+00:00   \n",
       "2 2023-02-07 23:28:26+00:00   \n",
       "3 2023-02-07 23:28:05+00:00   \n",
       "4 2023-02-07 23:26:57+00:00   \n",
       "\n",
       "                                                text  stop_word_count  \\\n",
       "0                no tientes! https://t.co/ud3ysyis3j                1   \n",
       "1  ‼ no further info about this #earthquake will ...                7   \n",
       "2                         @luz_marcha good night 🙏❤️                0   \n",
       "3                        @chrishowley6 clever girl 😂                0   \n",
       "4                       @flirtyflightb2 beautiful,,😘                0   \n",
       "\n",
       "   mean_word_length  char_count  punctuation_count  word_unique_ratio  \n",
       "0         11.000000          35                  6                1.0  \n",
       "1          8.647059         163                 16                1.0  \n",
       "2          5.750000          26                  2                1.0  \n",
       "3          6.000000          27                  1                1.0  \n",
       "4         13.500000          28                  3                1.0  "
      ]
     },
     "execution_count": 5,
     "metadata": {},
     "output_type": "execute_result"
    }
   ],
   "source": [
    "# Create meta features from text\n",
    "STOPWORDS = set(nltk.corpus.stopwords.words('english'))\n",
    "df['word_count'] = df['text'].apply(lambda x: len(str(x).split()))\n",
    "df['unique_word_count'] = df['text'].apply(lambda x: len(set(str(x).split())))\n",
    "df['stop_word_count'] = df['text'].apply(lambda x: len([w for w in str(x).lower().split() if w in STOPWORDS]))\n",
    "df['mean_word_length'] = df['text'].apply(lambda x: np.mean([len(w) for w in str(x).split()]))\n",
    "df['char_count'] = df['text'].apply(lambda x: len(str(x)))\n",
    "df['punctuation_count'] = df['text'].apply(lambda x: len([c for c in str(x) if c in string.punctuation]))\n",
    "\n",
    "# Do a brief cleaning of the data\n",
    "df['text'] = [re.sub('\\s+', ' ', x) for x in df['text']] # This removes all extra spaces\n",
    "df['text'] = [x.lower() for x in df['text']] # lowercase \n",
    "\n",
    "# Combine correlated features\n",
    "df['word_unique_ratio'] = df['unique_word_count'] / df['word_count']\n",
    "df.drop(['word_count', 'unique_word_count'], axis=1, inplace=True)\n",
    "\n",
    "df.head()\n"
   ]
  },
  {
   "cell_type": "code",
   "execution_count": 6,
   "metadata": {},
   "outputs": [],
   "source": [
    "# Load the model stacking_model.sav\n",
    "model = pickle.load(open('stacking_model.sav', 'rb'))"
   ]
  },
  {
   "cell_type": "code",
   "execution_count": 7,
   "metadata": {},
   "outputs": [
    {
     "data": {
      "text/html": [
       "<div>\n",
       "<style scoped>\n",
       "    .dataframe tbody tr th:only-of-type {\n",
       "        vertical-align: middle;\n",
       "    }\n",
       "\n",
       "    .dataframe tbody tr th {\n",
       "        vertical-align: top;\n",
       "    }\n",
       "\n",
       "    .dataframe thead th {\n",
       "        text-align: right;\n",
       "    }\n",
       "</style>\n",
       "<table border=\"1\" class=\"dataframe\">\n",
       "  <thead>\n",
       "    <tr style=\"text-align: right;\">\n",
       "      <th></th>\n",
       "      <th>date</th>\n",
       "      <th>text</th>\n",
       "      <th>stop_word_count</th>\n",
       "      <th>mean_word_length</th>\n",
       "      <th>char_count</th>\n",
       "      <th>punctuation_count</th>\n",
       "      <th>word_unique_ratio</th>\n",
       "      <th>prediction</th>\n",
       "    </tr>\n",
       "  </thead>\n",
       "  <tbody>\n",
       "    <tr>\n",
       "      <th>0</th>\n",
       "      <td>2023-02-07 23:53:20+00:00</td>\n",
       "      <td>no tientes! https://t.co/ud3ysyis3j</td>\n",
       "      <td>1</td>\n",
       "      <td>11.000000</td>\n",
       "      <td>35</td>\n",
       "      <td>6</td>\n",
       "      <td>1.0</td>\n",
       "      <td>0</td>\n",
       "    </tr>\n",
       "    <tr>\n",
       "      <th>1</th>\n",
       "      <td>2023-02-07 23:36:57+00:00</td>\n",
       "      <td>‼ no further info about this #earthquake will ...</td>\n",
       "      <td>7</td>\n",
       "      <td>8.647059</td>\n",
       "      <td>163</td>\n",
       "      <td>16</td>\n",
       "      <td>1.0</td>\n",
       "      <td>1</td>\n",
       "    </tr>\n",
       "    <tr>\n",
       "      <th>2</th>\n",
       "      <td>2023-02-07 23:28:26+00:00</td>\n",
       "      <td>@luz_marcha good night 🙏❤️</td>\n",
       "      <td>0</td>\n",
       "      <td>5.750000</td>\n",
       "      <td>26</td>\n",
       "      <td>2</td>\n",
       "      <td>1.0</td>\n",
       "      <td>0</td>\n",
       "    </tr>\n",
       "    <tr>\n",
       "      <th>3</th>\n",
       "      <td>2023-02-07 23:28:05+00:00</td>\n",
       "      <td>@chrishowley6 clever girl 😂</td>\n",
       "      <td>0</td>\n",
       "      <td>6.000000</td>\n",
       "      <td>27</td>\n",
       "      <td>1</td>\n",
       "      <td>1.0</td>\n",
       "      <td>0</td>\n",
       "    </tr>\n",
       "    <tr>\n",
       "      <th>4</th>\n",
       "      <td>2023-02-07 23:26:57+00:00</td>\n",
       "      <td>@flirtyflightb2 beautiful,,😘</td>\n",
       "      <td>0</td>\n",
       "      <td>13.500000</td>\n",
       "      <td>28</td>\n",
       "      <td>3</td>\n",
       "      <td>1.0</td>\n",
       "      <td>0</td>\n",
       "    </tr>\n",
       "  </tbody>\n",
       "</table>\n",
       "</div>"
      ],
      "text/plain": [
       "                       date  \\\n",
       "0 2023-02-07 23:53:20+00:00   \n",
       "1 2023-02-07 23:36:57+00:00   \n",
       "2 2023-02-07 23:28:26+00:00   \n",
       "3 2023-02-07 23:28:05+00:00   \n",
       "4 2023-02-07 23:26:57+00:00   \n",
       "\n",
       "                                                text  stop_word_count  \\\n",
       "0                no tientes! https://t.co/ud3ysyis3j                1   \n",
       "1  ‼ no further info about this #earthquake will ...                7   \n",
       "2                         @luz_marcha good night 🙏❤️                0   \n",
       "3                        @chrishowley6 clever girl 😂                0   \n",
       "4                       @flirtyflightb2 beautiful,,😘                0   \n",
       "\n",
       "   mean_word_length  char_count  punctuation_count  word_unique_ratio  \\\n",
       "0         11.000000          35                  6                1.0   \n",
       "1          8.647059         163                 16                1.0   \n",
       "2          5.750000          26                  2                1.0   \n",
       "3          6.000000          27                  1                1.0   \n",
       "4         13.500000          28                  3                1.0   \n",
       "\n",
       "   prediction  \n",
       "0           0  \n",
       "1           1  \n",
       "2           0  \n",
       "3           0  \n",
       "4           0  "
      ]
     },
     "execution_count": 7,
     "metadata": {},
     "output_type": "execute_result"
    }
   ],
   "source": [
    "# Define X\n",
    "features = df.drop('date', axis=1).columns\n",
    "X = df[features]\n",
    "\n",
    "# Predict positive or negative label\n",
    "y_pred = model.predict(X)\n",
    "\n",
    "# Add the prediction to the dataframe\n",
    "df['prediction'] = y_pred\n",
    "\n",
    "# Print the first 5 rows of the dataframe\n",
    "df.head()"
   ]
  },
  {
   "cell_type": "code",
   "execution_count": 8,
   "metadata": {},
   "outputs": [
    {
     "data": {
      "image/png": "[encoded data removed]",
      "text/plain": [
       "<Figure size 2000x1000 with 1 Axes>"
      ]
     },
     "metadata": {},
     "output_type": "display_data"
    }
   ],
   "source": [
    "# Plot the predictions over time by hour\n",
    "df['date'] = pd.to_datetime(df['date'])\n",
    "df['date_hour'] = df['date'].dt.round('H')\n",
    "\n",
    "# Plot a smooth line of the sum of positive predictions with seaborn\n",
    "plt.figure(figsize=(20,10))\n",
    "sns.lineplot(x='date_hour', y='prediction', data=df, estimator=sum)\n",
    "\n",
    "# Axis labels\n",
    "plt.xlabel('Date')\n",
    "plt.ylabel('Number of flagged tweets')\n",
    "plt.show()\n"
   ]
  },
  {
   "cell_type": "code",
   "execution_count": 9,
   "metadata": {},
   "outputs": [],
   "source": [
    "# Priority tweets with predict proba\n",
    "df['prediction_proba'] = model.predict_proba(X)[:,1]\n",
    "# Priority are those above 0.911\n",
    "\n",
    "df['priority'] = df['prediction_proba'].apply(lambda x: 1 if x > 0.80 else 0)"
   ]
  },
  {
   "cell_type": "code",
   "execution_count": 10,
   "metadata": {},
   "outputs": [
    {
     "data": {
      "image/png": "[encoded data removed]",
      "text/plain": [
       "<Figure size 2000x1000 with 1 Axes>"
      ]
     },
     "metadata": {},
     "output_type": "display_data"
    }
   ],
   "source": [
    "# Plot the same seaborn but with priority tweets \n",
    "plt.figure(figsize=(20,10))\n",
    "sns.lineplot(x='date_hour', y='priority', data=df[df['priority'] == 1], estimator=sum, color='red', label='Priority tweets')\n",
    "sns.lineplot(x='date_hour', y='prediction', data=df, estimator=sum, errorbar=None, label='All tweets')\n",
    "plt.legend()\n",
    "\n",
    "# Axis labels\n",
    "plt.xlabel('Date')\n",
    "plt.ylabel('Number of flagged tweets')\n",
    "\n",
    "plt.show()"
   ]
  },
  {
   "cell_type": "code",
   "execution_count": 14,
   "metadata": {},
   "outputs": [
    {
     "data": {
      "application/vnd.plotly.v1+json": {
       "config": {
        "plotlyServerURL": "https://plotly.com"
       },
       "data": [
        {
         "hovertemplate": "Date: %{x}<br>Number of flagged tweets: %{y}",
         "mode": "lines+markers",
         "name": "All positive tweets",
         "type": "scatter",
         "x": [
          "2023-02-05T00:00:00+00:00",
          "2023-02-05T01:00:00+00:00",
          "2023-02-05T03:00:00+00:00",
          "2023-02-05T04:00:00+00:00",
          "2023-02-05T05:00:00+00:00",
          "2023-02-05T06:00:00+00:00",
          "2023-02-05T07:00:00+00:00",
          "2023-02-05T08:00:00+00:00",
          "2023-02-05T09:00:00+00:00",
          "2023-02-05T10:00:00+00:00",
          "2023-02-05T11:00:00+00:00",
          "2023-02-05T12:00:00+00:00",
          "2023-02-05T13:00:00+00:00",
          "2023-02-05T14:00:00+00:00",
          "2023-02-05T15:00:00+00:00",
          "2023-02-05T16:00:00+00:00",
          "2023-02-05T17:00:00+00:00",
          "2023-02-05T18:00:00+00:00",
          "2023-02-05T19:00:00+00:00",
          "2023-02-05T20:00:00+00:00",
          "2023-02-05T21:00:00+00:00",
          "2023-02-05T22:00:00+00:00",
          "2023-02-05T23:00:00+00:00",
          "2023-02-06T00:00:00+00:00",
          "2023-02-06T01:00:00+00:00",
          "2023-02-06T02:00:00+00:00",
          "2023-02-06T03:00:00+00:00",
          "2023-02-06T04:00:00+00:00",
          "2023-02-06T05:00:00+00:00",
          "2023-02-06T06:00:00+00:00",
          "2023-02-06T07:00:00+00:00",
          "2023-02-06T08:00:00+00:00",
          "2023-02-06T09:00:00+00:00",
          "2023-02-06T10:00:00+00:00",
          "2023-02-06T11:00:00+00:00",
          "2023-02-06T12:00:00+00:00",
          "2023-02-06T13:00:00+00:00",
          "2023-02-06T14:00:00+00:00",
          "2023-02-06T15:00:00+00:00",
          "2023-02-06T16:00:00+00:00",
          "2023-02-06T17:00:00+00:00",
          "2023-02-06T18:00:00+00:00",
          "2023-02-06T19:00:00+00:00",
          "2023-02-06T20:00:00+00:00",
          "2023-02-06T21:00:00+00:00",
          "2023-02-06T22:00:00+00:00",
          "2023-02-06T23:00:00+00:00",
          "2023-02-07T00:00:00+00:00",
          "2023-02-07T01:00:00+00:00",
          "2023-02-07T02:00:00+00:00",
          "2023-02-07T03:00:00+00:00",
          "2023-02-07T04:00:00+00:00",
          "2023-02-07T05:00:00+00:00",
          "2023-02-07T06:00:00+00:00",
          "2023-02-07T07:00:00+00:00",
          "2023-02-07T08:00:00+00:00",
          "2023-02-07T09:00:00+00:00",
          "2023-02-07T10:00:00+00:00",
          "2023-02-07T11:00:00+00:00",
          "2023-02-07T12:00:00+00:00",
          "2023-02-07T13:00:00+00:00",
          "2023-02-07T14:00:00+00:00",
          "2023-02-07T15:00:00+00:00",
          "2023-02-07T16:00:00+00:00",
          "2023-02-07T17:00:00+00:00",
          "2023-02-07T18:00:00+00:00",
          "2023-02-07T19:00:00+00:00",
          "2023-02-07T20:00:00+00:00",
          "2023-02-07T21:00:00+00:00",
          "2023-02-07T22:00:00+00:00",
          "2023-02-07T23:00:00+00:00",
          "2023-02-08T00:00:00+00:00"
         ],
         "y": [
          0,
          0,
          0,
          0,
          0,
          0,
          0,
          2,
          1,
          0,
          0,
          0,
          0,
          0,
          0,
          1,
          0,
          1,
          2,
          0,
          2,
          0,
          0,
          1,
          5,
          22,
          32,
          64,
          26,
          14,
          14,
          17,
          16,
          20,
          31,
          43,
          75,
          35,
          27,
          41,
          48,
          40,
          26,
          43,
          53,
          45,
          25,
          7,
          15,
          10,
          21,
          24,
          12,
          5,
          12,
          17,
          22,
          15,
          31,
          12,
          17,
          15,
          6,
          31,
          24,
          23,
          15,
          11,
          16,
          23,
          10,
          1
         ]
        },
        {
         "hovertemplate": "Date: %{x}<br>Number of flagged tweets: %{y}",
         "mode": "lines+markers",
         "name": "Priority tweets",
         "type": "scatter",
         "x": [
          "2023-02-05T00:00:00+00:00",
          "2023-02-05T01:00:00+00:00",
          "2023-02-05T03:00:00+00:00",
          "2023-02-05T04:00:00+00:00",
          "2023-02-05T05:00:00+00:00",
          "2023-02-05T06:00:00+00:00",
          "2023-02-05T07:00:00+00:00",
          "2023-02-05T08:00:00+00:00",
          "2023-02-05T09:00:00+00:00",
          "2023-02-05T10:00:00+00:00",
          "2023-02-05T11:00:00+00:00",
          "2023-02-05T12:00:00+00:00",
          "2023-02-05T13:00:00+00:00",
          "2023-02-05T14:00:00+00:00",
          "2023-02-05T15:00:00+00:00",
          "2023-02-05T16:00:00+00:00",
          "2023-02-05T17:00:00+00:00",
          "2023-02-05T18:00:00+00:00",
          "2023-02-05T19:00:00+00:00",
          "2023-02-05T20:00:00+00:00",
          "2023-02-05T21:00:00+00:00",
          "2023-02-05T22:00:00+00:00",
          "2023-02-05T23:00:00+00:00",
          "2023-02-06T00:00:00+00:00",
          "2023-02-06T01:00:00+00:00",
          "2023-02-06T02:00:00+00:00",
          "2023-02-06T03:00:00+00:00",
          "2023-02-06T04:00:00+00:00",
          "2023-02-06T05:00:00+00:00",
          "2023-02-06T06:00:00+00:00",
          "2023-02-06T07:00:00+00:00",
          "2023-02-06T08:00:00+00:00",
          "2023-02-06T09:00:00+00:00",
          "2023-02-06T10:00:00+00:00",
          "2023-02-06T11:00:00+00:00",
          "2023-02-06T12:00:00+00:00",
          "2023-02-06T13:00:00+00:00",
          "2023-02-06T14:00:00+00:00",
          "2023-02-06T15:00:00+00:00",
          "2023-02-06T16:00:00+00:00",
          "2023-02-06T17:00:00+00:00",
          "2023-02-06T18:00:00+00:00",
          "2023-02-06T19:00:00+00:00",
          "2023-02-06T20:00:00+00:00",
          "2023-02-06T21:00:00+00:00",
          "2023-02-06T22:00:00+00:00",
          "2023-02-06T23:00:00+00:00",
          "2023-02-07T00:00:00+00:00",
          "2023-02-07T01:00:00+00:00",
          "2023-02-07T02:00:00+00:00",
          "2023-02-07T03:00:00+00:00",
          "2023-02-07T04:00:00+00:00",
          "2023-02-07T05:00:00+00:00",
          "2023-02-07T06:00:00+00:00",
          "2023-02-07T07:00:00+00:00",
          "2023-02-07T08:00:00+00:00",
          "2023-02-07T09:00:00+00:00",
          "2023-02-07T10:00:00+00:00",
          "2023-02-07T11:00:00+00:00",
          "2023-02-07T12:00:00+00:00",
          "2023-02-07T13:00:00+00:00",
          "2023-02-07T14:00:00+00:00",
          "2023-02-07T15:00:00+00:00",
          "2023-02-07T16:00:00+00:00",
          "2023-02-07T17:00:00+00:00",
          "2023-02-07T18:00:00+00:00",
          "2023-02-07T19:00:00+00:00",
          "2023-02-07T20:00:00+00:00",
          "2023-02-07T21:00:00+00:00",
          "2023-02-07T22:00:00+00:00",
          "2023-02-07T23:00:00+00:00",
          "2023-02-08T00:00:00+00:00"
         ],
         "y": [
          null,
          null,
          null,
          null,
          null,
          null,
          null,
          null,
          null,
          null,
          null,
          null,
          null,
          null,
          null,
          null,
          null,
          null,
          null,
          null,
          null,
          null,
          null,
          null,
          4,
          11,
          19,
          34,
          14,
          9,
          7,
          9,
          12,
          8,
          19,
          27,
          48,
          21,
          14,
          26,
          32,
          25,
          16,
          24,
          24,
          29,
          17,
          4,
          12,
          8,
          14,
          15,
          7,
          1,
          4,
          10,
          8,
          9,
          19,
          7,
          4,
          5,
          1,
          19,
          16,
          16,
          10,
          6,
          8,
          14,
          8,
          1
         ]
        }
       ],
       "layout": {
        "template": {
         "data": {
          "bar": [
           {
            "error_x": {
             "color": "#2a3f5f"
            },
            "error_y": {
             "color": "#2a3f5f"
            },
            "marker": {
             "line": {
              "color": "#E5ECF6",
              "width": 0.5
             },
             "pattern": {
              "fillmode": "overlay",
              "size": 10,
              "solidity": 0.2
             }
            },
            "type": "bar"
           }
          ],
          "barpolar": [
           {
            "marker": {
             "line": {
              "color": "#E5ECF6",
              "width": 0.5
             },
             "pattern": {
              "fillmode": "overlay",
              "size": 10,
              "solidity": 0.2
             }
            },
            "type": "barpolar"
           }
          ],
          "carpet": [
           {
            "aaxis": {
             "endlinecolor": "#2a3f5f",
             "gridcolor": "white",
             "linecolor": "white",
             "minorgridcolor": "white",
             "startlinecolor": "#2a3f5f"
            },
            "baxis": {
             "endlinecolor": "#2a3f5f",
             "gridcolor": "white",
             "linecolor": "white",
             "minorgridcolor": "white",
             "startlinecolor": "#2a3f5f"
            },
            "type": "carpet"
           }
          ],
          "choropleth": [
           {
            "colorbar": {
             "outlinewidth": 0,
             "ticks": ""
            },
            "type": "choropleth"
           }
          ],
          "contour": [
           {
            "colorbar": {
             "outlinewidth": 0,
             "ticks": ""
            },
            "colorscale": [
             [
              0,
              "#0d0887"
             ],
             [
              0.1111111111111111,
              "#46039f"
             ],
             [
              0.2222222222222222,
              "#7201a8"
             ],
             [
              0.3333333333333333,
              "#9c179e"
             ],
             [
              0.4444444444444444,
              "#bd3786"
             ],
             [
              0.5555555555555556,
              "#d8576b"
             ],
             [
              0.6666666666666666,
              "#ed7953"
             ],
             [
              0.7777777777777778,
              "#fb9f3a"
             ],
             [
              0.8888888888888888,
              "#fdca26"
             ],
             [
              1,
              "#f0f921"
             ]
            ],
            "type": "contour"
           }
          ],
          "contourcarpet": [
           {
            "colorbar": {
             "outlinewidth": 0,
             "ticks": ""
            },
            "type": "contourcarpet"
           }
          ],
          "heatmap": [
           {
            "colorbar": {
             "outlinewidth": 0,
             "ticks": ""
            },
            "colorscale": [
             [
              0,
              "#0d0887"
             ],
             [
              0.1111111111111111,
              "#46039f"
             ],
             [
              0.2222222222222222,
              "#7201a8"
             ],
             [
              0.3333333333333333,
              "#9c179e"
             ],
             [
              0.4444444444444444,
              "#bd3786"
             ],
             [
              0.5555555555555556,
              "#d8576b"
             ],
             [
              0.6666666666666666,
              "#ed7953"
             ],
             [
              0.7777777777777778,
              "#fb9f3a"
             ],
             [
              0.8888888888888888,
              "#fdca26"
             ],
             [
              1,
              "#f0f921"
             ]
            ],
            "type": "heatmap"
           }
          ],
          "heatmapgl": [
           {
            "colorbar": {
             "outlinewidth": 0,
             "ticks": ""
            },
            "colorscale": [
             [
              0,
              "#0d0887"
             ],
             [
              0.1111111111111111,
              "#46039f"
             ],
             [
              0.2222222222222222,
              "#7201a8"
             ],
             [
              0.3333333333333333,
              "#9c179e"
             ],
             [
              0.4444444444444444,
              "#bd3786"
             ],
             [
              0.5555555555555556,
              "#d8576b"
             ],
             [
              0.6666666666666666,
              "#ed7953"
             ],
             [
              0.7777777777777778,
              "#fb9f3a"
             ],
             [
              0.8888888888888888,
              "#fdca26"
             ],
             [
              1,
              "#f0f921"
             ]
            ],
            "type": "heatmapgl"
           }
          ],
          "histogram": [
           {
            "marker": {
             "pattern": {
              "fillmode": "overlay",
              "size": 10,
              "solidity": 0.2
             }
            },
            "type": "histogram"
           }
          ],
          "histogram2d": [
           {
            "colorbar": {
             "outlinewidth": 0,
             "ticks": ""
            },
            "colorscale": [
             [
              0,
              "#0d0887"
             ],
             [
              0.1111111111111111,
              "#46039f"
             ],
             [
              0.2222222222222222,
              "#7201a8"
             ],
             [
              0.3333333333333333,
              "#9c179e"
             ],
             [
              0.4444444444444444,
              "#bd3786"
             ],
             [
              0.5555555555555556,
              "#d8576b"
             ],
             [
              0.6666666666666666,
              "#ed7953"
             ],
             [
              0.7777777777777778,
              "#fb9f3a"
             ],
             [
              0.8888888888888888,
              "#fdca26"
             ],
             [
              1,
              "#f0f921"
             ]
            ],
            "type": "histogram2d"
           }
          ],
          "histogram2dcontour": [
           {
            "colorbar": {
             "outlinewidth": 0,
             "ticks": ""
            },
            "colorscale": [
             [
              0,
              "#0d0887"
             ],
             [
              0.1111111111111111,
              "#46039f"
             ],
             [
              0.2222222222222222,
              "#7201a8"
             ],
             [
              0.3333333333333333,
              "#9c179e"
             ],
             [
              0.4444444444444444,
              "#bd3786"
             ],
             [
              0.5555555555555556,
              "#d8576b"
             ],
             [
              0.6666666666666666,
              "#ed7953"
             ],
             [
              0.7777777777777778,
              "#fb9f3a"
             ],
             [
              0.8888888888888888,
              "#fdca26"
             ],
             [
              1,
              "#f0f921"
             ]
            ],
            "type": "histogram2dcontour"
           }
          ],
          "mesh3d": [
           {
            "colorbar": {
             "outlinewidth": 0,
             "ticks": ""
            },
            "type": "mesh3d"
           }
          ],
          "parcoords": [
           {
            "line": {
             "colorbar": {
              "outlinewidth": 0,
              "ticks": ""
             }
            },
            "type": "parcoords"
           }
          ],
          "pie": [
           {
            "automargin": true,
            "type": "pie"
           }
          ],
          "scatter": [
           {
            "fillpattern": {
             "fillmode": "overlay",
             "size": 10,
             "solidity": 0.2
            },
            "type": "scatter"
           }
          ],
          "scatter3d": [
           {
            "line": {
             "colorbar": {
              "outlinewidth": 0,
              "ticks": ""
             }
            },
            "marker": {
             "colorbar": {
              "outlinewidth": 0,
              "ticks": ""
             }
            },
            "type": "scatter3d"
           }
          ],
          "scattercarpet": [
           {
            "marker": {
             "colorbar": {
              "outlinewidth": 0,
              "ticks": ""
             }
            },
            "type": "scattercarpet"
           }
          ],
          "scattergeo": [
           {
            "marker": {
             "colorbar": {
              "outlinewidth": 0,
              "ticks": ""
             }
            },
            "type": "scattergeo"
           }
          ],
          "scattergl": [
           {
            "marker": {
             "colorbar": {
              "outlinewidth": 0,
              "ticks": ""
             }
            },
            "type": "scattergl"
           }
          ],
          "scattermapbox": [
           {
            "marker": {
             "colorbar": {
              "outlinewidth": 0,
              "ticks": ""
             }
            },
            "type": "scattermapbox"
           }
          ],
          "scatterpolar": [
           {
            "marker": {
             "colorbar": {
              "outlinewidth": 0,
              "ticks": ""
             }
            },
            "type": "scatterpolar"
           }
          ],
          "scatterpolargl": [
           {
            "marker": {
             "colorbar": {
              "outlinewidth": 0,
              "ticks": ""
             }
            },
            "type": "scatterpolargl"
           }
          ],
          "scatterternary": [
           {
            "marker": {
             "colorbar": {
              "outlinewidth": 0,
              "ticks": ""
             }
            },
            "type": "scatterternary"
           }
          ],
          "surface": [
           {
            "colorbar": {
             "outlinewidth": 0,
             "ticks": ""
            },
            "colorscale": [
             [
              0,
              "#0d0887"
             ],
             [
              0.1111111111111111,
              "#46039f"
             ],
             [
              0.2222222222222222,
              "#7201a8"
             ],
             [
              0.3333333333333333,
              "#9c179e"
             ],
             [
              0.4444444444444444,
              "#bd3786"
             ],
             [
              0.5555555555555556,
              "#d8576b"
             ],
             [
              0.6666666666666666,
              "#ed7953"
             ],
             [
              0.7777777777777778,
              "#fb9f3a"
             ],
             [
              0.8888888888888888,
              "#fdca26"
             ],
             [
              1,
              "#f0f921"
             ]
            ],
            "type": "surface"
           }
          ],
          "table": [
           {
            "cells": {
             "fill": {
              "color": "#EBF0F8"
             },
             "line": {
              "color": "white"
             }
            },
            "header": {
             "fill": {
              "color": "#C8D4E3"
             },
             "line": {
              "color": "white"
             }
            },
            "type": "table"
           }
          ]
         },
         "layout": {
          "annotationdefaults": {
           "arrowcolor": "#2a3f5f",
           "arrowhead": 0,
           "arrowwidth": 1
          },
          "autotypenumbers": "strict",
          "coloraxis": {
           "colorbar": {
            "outlinewidth": 0,
            "ticks": ""
           }
          },
          "colorscale": {
           "diverging": [
            [
             0,
             "#8e0152"
            ],
            [
             0.1,
             "#c51b7d"
            ],
            [
             0.2,
             "#de77ae"
            ],
            [
             0.3,
             "#f1b6da"
            ],
            [
             0.4,
             "#fde0ef"
            ],
            [
             0.5,
             "#f7f7f7"
            ],
            [
             0.6,
             "#e6f5d0"
            ],
            [
             0.7,
             "#b8e186"
            ],
            [
             0.8,
             "#7fbc41"
            ],
            [
             0.9,
             "#4d9221"
            ],
            [
             1,
             "#276419"
            ]
           ],
           "sequential": [
            [
             0,
             "#0d0887"
            ],
            [
             0.1111111111111111,
             "#46039f"
            ],
            [
             0.2222222222222222,
             "#7201a8"
            ],
            [
             0.3333333333333333,
             "#9c179e"
            ],
            [
             0.4444444444444444,
             "#bd3786"
            ],
            [
             0.5555555555555556,
             "#d8576b"
            ],
            [
             0.6666666666666666,
             "#ed7953"
            ],
            [
             0.7777777777777778,
             "#fb9f3a"
            ],
            [
             0.8888888888888888,
             "#fdca26"
            ],
            [
             1,
             "#f0f921"
            ]
           ],
           "sequentialminus": [
            [
             0,
             "#0d0887"
            ],
            [
             0.1111111111111111,
             "#46039f"
            ],
            [
             0.2222222222222222,
             "#7201a8"
            ],
            [
             0.3333333333333333,
             "#9c179e"
            ],
            [
             0.4444444444444444,
             "#bd3786"
            ],
            [
             0.5555555555555556,
             "#d8576b"
            ],
            [
             0.6666666666666666,
             "#ed7953"
            ],
            [
             0.7777777777777778,
             "#fb9f3a"
            ],
            [
             0.8888888888888888,
             "#fdca26"
            ],
            [
             1,
             "#f0f921"
            ]
           ]
          },
          "colorway": [
           "#636efa",
           "#EF553B",
           "#00cc96",
           "#ab63fa",
           "#FFA15A",
           "#19d3f3",
           "#FF6692",
           "#B6E880",
           "#FF97FF",
           "#FECB52"
          ],
          "font": {
           "color": "#2a3f5f"
          },
          "geo": {
           "bgcolor": "white",
           "lakecolor": "white",
           "landcolor": "#E5ECF6",
           "showlakes": true,
           "showland": true,
           "subunitcolor": "white"
          },
          "hoverlabel": {
           "align": "left"
          },
          "hovermode": "closest",
          "mapbox": {
           "style": "light"
          },
          "paper_bgcolor": "white",
          "plot_bgcolor": "#E5ECF6",
          "polar": {
           "angularaxis": {
            "gridcolor": "white",
            "linecolor": "white",
            "ticks": ""
           },
           "bgcolor": "#E5ECF6",
           "radialaxis": {
            "gridcolor": "white",
            "linecolor": "white",
            "ticks": ""
           }
          },
          "scene": {
           "xaxis": {
            "backgroundcolor": "#E5ECF6",
            "gridcolor": "white",
            "gridwidth": 2,
            "linecolor": "white",
            "showbackground": true,
            "ticks": "",
            "zerolinecolor": "white"
           },
           "yaxis": {
            "backgroundcolor": "#E5ECF6",
            "gridcolor": "white",
            "gridwidth": 2,
            "linecolor": "white",
            "showbackground": true,
            "ticks": "",
            "zerolinecolor": "white"
           },
           "zaxis": {
            "backgroundcolor": "#E5ECF6",
            "gridcolor": "white",
            "gridwidth": 2,
            "linecolor": "white",
            "showbackground": true,
            "ticks": "",
            "zerolinecolor": "white"
           }
          },
          "shapedefaults": {
           "line": {
            "color": "#2a3f5f"
           }
          },
          "ternary": {
           "aaxis": {
            "gridcolor": "white",
            "linecolor": "white",
            "ticks": ""
           },
           "baxis": {
            "gridcolor": "white",
            "linecolor": "white",
            "ticks": ""
           },
           "bgcolor": "#E5ECF6",
           "caxis": {
            "gridcolor": "white",
            "linecolor": "white",
            "ticks": ""
           }
          },
          "title": {
           "x": 0.05
          },
          "xaxis": {
           "automargin": true,
           "gridcolor": "white",
           "linecolor": "white",
           "ticks": "",
           "title": {
            "standoff": 15
           },
           "zerolinecolor": "white",
           "zerolinewidth": 2
          },
          "yaxis": {
           "automargin": true,
           "gridcolor": "white",
           "linecolor": "white",
           "ticks": "",
           "title": {
            "standoff": 15
           },
           "zerolinecolor": "white",
           "zerolinewidth": 2
          }
         }
        },
        "title": {
         "text": "Number of flagged tweets over time"
        },
        "xaxis": {
         "title": {
          "text": "Date"
         }
        },
        "yaxis": {
         "title": {
          "text": "Number of flagged tweets"
         }
        }
       }
      }
     },
     "metadata": {},
     "output_type": "display_data"
    }
   ],
   "source": [
    "# Use Plotly Go\n",
    "import plotly.graph_objects as go\n",
    "\n",
    "df2 = df.groupby('date_hour').agg({'prediction': 'sum', 'priority': 'sum'}).reset_index()\n",
    "df2['priority'] = df2['priority'].apply(lambda x: np.nan if x == 0 else x)\n",
    "\n",
    "# Create a figure\n",
    "fig = go.Figure()\n",
    "fig.add_trace(go.Scatter(x=df2['date_hour'], y=df2['prediction'], mode='lines+markers', name='All positive tweets'))\n",
    "fig.add_trace(go.Scatter(x=df2['date_hour'], y=df2['priority'], mode='lines+markers', name='Priority tweets'))\n",
    "fig.update_layout(title='Number of flagged tweets over time',\n",
    "                     xaxis_title='Date',\n",
    "                        yaxis_title='Number of flagged tweets')\n",
    "fig.update_traces(hovertemplate='Date: %{x}<br>Number of flagged tweets: %{y}')\n",
    "fig.show()\n",
    "\n"
   ]
  },
  {
   "cell_type": "code",
   "execution_count": 16,
   "metadata": {},
   "outputs": [
    {
     "data": {
      "text/html": [
       "<div>\n",
       "<style scoped>\n",
       "    .dataframe tbody tr th:only-of-type {\n",
       "        vertical-align: middle;\n",
       "    }\n",
       "\n",
       "    .dataframe tbody tr th {\n",
       "        vertical-align: top;\n",
       "    }\n",
       "\n",
       "    .dataframe thead th {\n",
       "        text-align: right;\n",
       "    }\n",
       "</style>\n",
       "<table border=\"1\" class=\"dataframe\">\n",
       "  <thead>\n",
       "    <tr style=\"text-align: right;\">\n",
       "      <th></th>\n",
       "      <th>date</th>\n",
       "      <th>text</th>\n",
       "      <th>prediction_proba</th>\n",
       "    </tr>\n",
       "  </thead>\n",
       "  <tbody>\n",
       "    <tr>\n",
       "      <th>1860</th>\n",
       "      <td>2023-02-06 01:18:56+00:00</td>\n",
       "      <td>❗ deprem uyarisi / earthquake warning for turkey (#deprem reported near #kösreli?) — note: alerts/reports will end soon because twitter will remove its free api; see my profile. (twitter)</td>\n",
       "      <td>0.886409</td>\n",
       "    </tr>\n",
       "    <tr>\n",
       "      <th>1859</th>\n",
       "      <td>2023-02-06 01:19:42+00:00</td>\n",
       "      <td>⚠preliminary info: #earthquake (#deprem) about 30 km n of #mercin (#turkey) 2 min ago (local time 04:17:48)❗magnitude not available yet❗updates at: 📱emsc-csem.org/service/applic… 🌐m.emsc.eu 🖥emsc-csem.org https://t.co/dp1gz3dmnt</td>\n",
       "      <td>0.803254</td>\n",
       "    </tr>\n",
       "    <tr>\n",
       "      <th>1858</th>\n",
       "      <td>2023-02-06 01:21:33+00:00</td>\n",
       "      <td>⚠preliminary info: m7.2 #earthquake (#deprem) about 30 km n of #mercin (#turkey) 4 min ago (local time 04:17:48). updates at: 📱emsc-csem.org/service/applic… 🌐m.emsc.eu 🖥emsc-csem.org https://t.co/4nrruubacj</td>\n",
       "      <td>0.810901</td>\n",
       "    </tr>\n",
       "    <tr>\n",
       "      <th>1856</th>\n",
       "      <td>2023-02-06 01:22:58+00:00</td>\n",
       "      <td>#earthquake 26 km nw of #gaziantep (#turkey) 5 min ago (local time 04:17:35). colored dots represent local shaking &amp;amp; damage level reported by eyeswitnesses. share your experience via: 📱emsc-csem.org/service/applic… 🌐m.emsc.eu/?id=1218444 https://t.co/vwwekb88si</td>\n",
       "      <td>0.807213</td>\n",
       "    </tr>\n",
       "    <tr>\n",
       "      <th>1855</th>\n",
       "      <td>2023-02-06 01:30:05+00:00</td>\n",
       "      <td>breaking: powerful 7.8-magnitude earthquake hits near gaziantep in southern turkey - usgs</td>\n",
       "      <td>0.865558</td>\n",
       "    </tr>\n",
       "  </tbody>\n",
       "</table>\n",
       "</div>"
      ],
      "text/plain": [
       "                          date  \\\n",
       "1860 2023-02-06 01:18:56+00:00   \n",
       "1859 2023-02-06 01:19:42+00:00   \n",
       "1858 2023-02-06 01:21:33+00:00   \n",
       "1856 2023-02-06 01:22:58+00:00   \n",
       "1855 2023-02-06 01:30:05+00:00   \n",
       "\n",
       "                                                                                                                                                                                                                                                                           text  \\\n",
       "1860                                                                                ❗ deprem uyarisi / earthquake warning for turkey (#deprem reported near #kösreli?) — note: alerts/reports will end soon because twitter will remove its free api; see my profile. (twitter)   \n",
       "1859                                       ⚠preliminary info: #earthquake (#deprem) about 30 km n of #mercin (#turkey) 2 min ago (local time 04:17:48)❗magnitude not available yet❗updates at: 📱emsc-csem.org/service/applic… 🌐m.emsc.eu 🖥emsc-csem.org https://t.co/dp1gz3dmnt   \n",
       "1858                                                             ⚠preliminary info: m7.2 #earthquake (#deprem) about 30 km n of #mercin (#turkey) 4 min ago (local time 04:17:48). updates at: 📱emsc-csem.org/service/applic… 🌐m.emsc.eu 🖥emsc-csem.org https://t.co/4nrruubacj   \n",
       "1856  #earthquake 26 km nw of #gaziantep (#turkey) 5 min ago (local time 04:17:35). colored dots represent local shaking &amp; damage level reported by eyeswitnesses. share your experience via: 📱emsc-csem.org/service/applic… 🌐m.emsc.eu/?id=1218444 https://t.co/vwwekb88si   \n",
       "1855                                                                                                                                                                                  breaking: powerful 7.8-magnitude earthquake hits near gaziantep in southern turkey - usgs   \n",
       "\n",
       "      prediction_proba  \n",
       "1860          0.886409  \n",
       "1859          0.803254  \n",
       "1858          0.810901  \n",
       "1856          0.807213  \n",
       "1855          0.865558  "
      ]
     },
     "execution_count": 16,
     "metadata": {},
     "output_type": "execute_result"
    }
   ],
   "source": [
    "# Show the earliest 5 priority tweets without the meta_features \n",
    "df[df['priority'] == 1].drop(list(features.drop('text')) + ['prediction', 'date_hour', 'priority'], axis=1).sort_values('date').head()"
   ]
  },
  {
   "cell_type": "code",
   "execution_count": 41,
   "metadata": {},
   "outputs": [
    {
     "data": {
      "text/html": [
       "<div>\n",
       "<style scoped>\n",
       "    .dataframe tbody tr th:only-of-type {\n",
       "        vertical-align: middle;\n",
       "    }\n",
       "\n",
       "    .dataframe tbody tr th {\n",
       "        vertical-align: top;\n",
       "    }\n",
       "\n",
       "    .dataframe thead th {\n",
       "        text-align: right;\n",
       "    }\n",
       "</style>\n",
       "<table border=\"1\" class=\"dataframe\">\n",
       "  <thead>\n",
       "    <tr style=\"text-align: right;\">\n",
       "      <th></th>\n",
       "      <th>date</th>\n",
       "      <th>text</th>\n",
       "      <th>prediction</th>\n",
       "      <th>prediction_proba</th>\n",
       "    </tr>\n",
       "  </thead>\n",
       "  <tbody>\n",
       "    <tr>\n",
       "      <th>1928</th>\n",
       "      <td>2023-02-05 18:34:35+00:00</td>\n",
       "      <td>two days in #gaziantep: industrial, gastronomical and cultural must-have in turkey. special thanks to honorary consul @mehparekileci 🇮🇹🇹🇷 https://t.co/e6tr1nzjgi</td>\n",
       "      <td>1</td>\n",
       "      <td>0.545322</td>\n",
       "    </tr>\n",
       "    <tr>\n",
       "      <th>1894</th>\n",
       "      <td>2023-02-05 20:41:36+00:00</td>\n",
       "      <td>continue to be illegally deployed to the territory of azerbaijan in violation of paragraph 4 of the said trilateral statement, and the transfer of weapons and ammunition. transfer of land-mines through the lachin road with their subsequent planting on the sovereign territory of</td>\n",
       "      <td>1</td>\n",
       "      <td>0.583422</td>\n",
       "    </tr>\n",
       "    <tr>\n",
       "      <th>1893</th>\n",
       "      <td>2023-02-05 20:41:37+00:00</td>\n",
       "      <td>territory of azerbaijan is of particular concern. since august 2022 , more than 2700 anti-personnel land-mine produced in armenia in 2021 have already been detected in parts of lachin and kalbajar districts of azerbaijan. evidently, all those mines have been deployed to the</td>\n",
       "      <td>1</td>\n",
       "      <td>0.514892</td>\n",
       "    </tr>\n",
       "    <tr>\n",
       "      <th>1862</th>\n",
       "      <td>2023-02-05 23:58:29+00:00</td>\n",
       "      <td>• they told me that the end is near • https://t.co/xhpn4yrkww</td>\n",
       "      <td>1</td>\n",
       "      <td>0.505585</td>\n",
       "    </tr>\n",
       "  </tbody>\n",
       "</table>\n",
       "</div>"
      ],
      "text/plain": [
       "                          date  \\\n",
       "1928 2023-02-05 18:34:35+00:00   \n",
       "1894 2023-02-05 20:41:36+00:00   \n",
       "1893 2023-02-05 20:41:37+00:00   \n",
       "1862 2023-02-05 23:58:29+00:00   \n",
       "\n",
       "                                                                                                                                                                                                                                                                                        text  \\\n",
       "1928                                                                                                                       two days in #gaziantep: industrial, gastronomical and cultural must-have in turkey. special thanks to honorary consul @mehparekileci 🇮🇹🇹🇷 https://t.co/e6tr1nzjgi   \n",
       "1894  continue to be illegally deployed to the territory of azerbaijan in violation of paragraph 4 of the said trilateral statement, and the transfer of weapons and ammunition. transfer of land-mines through the lachin road with their subsequent planting on the sovereign territory of   \n",
       "1893      territory of azerbaijan is of particular concern. since august 2022 , more than 2700 anti-personnel land-mine produced in armenia in 2021 have already been detected in parts of lachin and kalbajar districts of azerbaijan. evidently, all those mines have been deployed to the   \n",
       "1862                                                                                                                                                                                                                           • they told me that the end is near • https://t.co/xhpn4yrkww   \n",
       "\n",
       "      prediction  prediction_proba  \n",
       "1928           1          0.545322  \n",
       "1894           1          0.583422  \n",
       "1893           1          0.514892  \n",
       "1862           1          0.505585  "
      ]
     },
     "execution_count": 41,
     "metadata": {},
     "output_type": "execute_result"
    }
   ],
   "source": [
    "# Show tweets that are low in confidence but still positive on 5 feb near midnight\n",
    "df[(df['prediction'] == 1) & (df['prediction_proba'] < 0.70) & (df['date'] > '2023-02-05 18:00:00') & (df['date'] < '2023-02-06 01:17:00')].drop(list(features.drop('text')) + ['date_hour', 'priority'], axis=1).sort_values('date')"
   ]
  },
  {
   "cell_type": "code",
   "execution_count": 48,
   "metadata": {},
   "outputs": [
    {
     "data": {
      "text/html": [
       "<div>\n",
       "<style scoped>\n",
       "    .dataframe tbody tr th:only-of-type {\n",
       "        vertical-align: middle;\n",
       "    }\n",
       "\n",
       "    .dataframe tbody tr th {\n",
       "        vertical-align: top;\n",
       "    }\n",
       "\n",
       "    .dataframe thead th {\n",
       "        text-align: right;\n",
       "    }\n",
       "</style>\n",
       "<table border=\"1\" class=\"dataframe\">\n",
       "  <thead>\n",
       "    <tr style=\"text-align: right;\">\n",
       "      <th></th>\n",
       "      <th>date</th>\n",
       "      <th>text</th>\n",
       "      <th>prediction</th>\n",
       "      <th>prediction_proba</th>\n",
       "    </tr>\n",
       "  </thead>\n",
       "  <tbody>\n",
       "    <tr>\n",
       "      <th>1953</th>\n",
       "      <td>2023-02-05 17:03:38+00:00</td>\n",
       "      <td>osmanpaşa mosque was built by osman paşa in 1591. it was demolished and rebuilt approximately 5 times so far. however, the minaret was not touched in these repairs. https://t.co/nhnuyat5fc</td>\n",
       "      <td>0</td>\n",
       "      <td>0.443673</td>\n",
       "    </tr>\n",
       "    <tr>\n",
       "      <th>1895</th>\n",
       "      <td>2023-02-05 20:41:35+00:00</td>\n",
       "      <td>wide-range abuse of the lachin road by the armenian side. thus, over more than two years since the signing of the trilateral statement on 10 november 2020, armenia has actively used it for illegal military purposes, including for the rotation of personnel of the armed forces that</td>\n",
       "      <td>0</td>\n",
       "      <td>0.496156</td>\n",
       "    </tr>\n",
       "    <tr>\n",
       "      <th>1896</th>\n",
       "      <td>2023-02-05 20:41:35+00:00</td>\n",
       "      <td>#azerbaijan:the #lachin road is envisaged, under the trilateral statement of 10 november 2020 signed by the republic of azerbaijan , armenia and the russian federation, exclusively for humanitarian purposes. in this context, the azerbaijani side further draws the attention to</td>\n",
       "      <td>0</td>\n",
       "      <td>0.479471</td>\n",
       "    </tr>\n",
       "  </tbody>\n",
       "</table>\n",
       "</div>"
      ],
      "text/plain": [
       "                          date  \\\n",
       "1953 2023-02-05 17:03:38+00:00   \n",
       "1895 2023-02-05 20:41:35+00:00   \n",
       "1896 2023-02-05 20:41:35+00:00   \n",
       "\n",
       "                                                                                                                                                                                                                                                                                          text  \\\n",
       "1953                                                                                              osmanpaşa mosque was built by osman paşa in 1591. it was demolished and rebuilt approximately 5 times so far. however, the minaret was not touched in these repairs. https://t.co/nhnuyat5fc   \n",
       "1895  wide-range abuse of the lachin road by the armenian side. thus, over more than two years since the signing of the trilateral statement on 10 november 2020, armenia has actively used it for illegal military purposes, including for the rotation of personnel of the armed forces that   \n",
       "1896      #azerbaijan:the #lachin road is envisaged, under the trilateral statement of 10 november 2020 signed by the republic of azerbaijan , armenia and the russian federation, exclusively for humanitarian purposes. in this context, the azerbaijani side further draws the attention to   \n",
       "\n",
       "      prediction  prediction_proba  \n",
       "1953           0          0.443673  \n",
       "1895           0          0.496156  \n",
       "1896           0          0.479471  "
      ]
     },
     "execution_count": 48,
     "metadata": {},
     "output_type": "execute_result"
    }
   ],
   "source": [
    "# Show tweets that are low in confidence but still negative on 5 feb near midnight\n",
    "df[(df['prediction'] == 0) & (df['prediction_proba'] > 0.40) & (df['date'] > '2023-02-05 13:00:00') & (df['date'] < '2023-02-06 01:17:00')].drop(list(features.drop('text')) + ['date_hour', 'priority'], axis=1).sort_values('date')\n"
   ]
  }
 ],
 "metadata": {
  "kernelspec": {
   "display_name": "Python 3",
   "language": "python",
   "name": "python3"
  },
  "language_info": {
   "codemirror_mode": {
    "name": "ipython",
    "version": 3
   },
   "file_extension": ".py",
   "mimetype": "text/x-python",
   "name": "python",
   "nbconvert_exporter": "python",
   "pygments_lexer": "ipython3",
   "version": "3.11.0"
  },
  "orig_nbformat": 4
 },
 "nbformat": 4,
 "nbformat_minor": 2
}
